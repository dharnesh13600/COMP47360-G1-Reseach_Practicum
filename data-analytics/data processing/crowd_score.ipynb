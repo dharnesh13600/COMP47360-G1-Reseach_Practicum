{
 "cells": [
  {
   "cell_type": "code",
   "execution_count": null,
   "id": "ccefec94-bc43-4562-adf0-b882f11bf31c",
   "metadata": {},
   "outputs": [],
   "source": [
    "import pandas as pd\n",
    "import numpy as np\n",
    "from sklearn.preprocessing import MinMaxScaler\n",
    "from math import radians, sin, cos, sqrt, atan2"
   ]
  },
  {
   "cell_type": "code",
   "execution_count": null,
   "id": "e5e49a50-ce48-4c56-89c3-8b3a300d750a",
   "metadata": {},
   "outputs": [],
   "source": [
    "#  distance function\n",
    "def haversine(lat1, lon1, lat2, lon2):\n",
    "    \"\"\"Calculate Haversine distance (in meters) between two points (lat, lon in degrees).\"\"\"\n",
    "    R = 6371000  # Earth's radius in meters\n",
    "    lat1, lon1, lat2, lon2 = map(radians, [lat1, lon1, lat2, lon2])\n",
    "    dlat = lat2 - lat1\n",
    "    dlon = lon2 - lon1\n",
    "    a = sin(dlat / 2) ** 2 + cos(lat1) * cos(lat2) * sin(dlon / 2) ** 2\n",
    "    c = 2 * atan2(sqrt(a), sqrt(1 - a))\n",
    "    return R * "
   ]
  },
  {
   "cell_type": "code",
   "execution_count": null,
   "id": "73e4dc0a-1c0b-40f0-bc5f-bdcd45691eb3",
   "metadata": {},
   "outputs": [],
   "source": [
    "# Load data\n",
    "df = pd.read_csv('yellow_cab_passenger_mahattan_cleaned.csv')\n",
    "df1 = pd.read_csv('subway_ridership_manhattan_cleaned.csv'"
   ]
  },
  {
   "cell_type": "code",
   "execution_count": null,
   "id": "dace1001-de16-4e6c-b9d6-da0a2798786b",
   "metadata": {},
   "outputs": [],
   "source": [
    "# Convert Date and Time columns in df (taxi data)\n",
    "df['Date'] = pd.to_datetime(df['Date'].astype(str).str.strip(), errors='coerce')\n",
    "df['Time'] = pd.to_datetime(df['Time'].astype(str).str.strip(), format='%I:%M:%S %p', errors='coerce')\n",
    "df['Time'] = df['Time'].dt.strftime('%H:%M:%S')  # Format Time as 24-hour string\n",
    "\n",
    "# Combine Date and Time into a single datetime column\n",
    "df['datetime'] = pd.to_datetime(df['Date'].astype(str) + ' ' + df['Time'], format='%Y-%m-%d %H:%M:%S', errors='coerce')\n",
    "df['datetime'] = df['datetime'].dt.tz_localize(None)  # Ensure timezone-free\n",
    "\n",
    "# Ensure transit_timestamp in df1 is in datetime format and timezone-free\n",
    "df1['transit_timestamp'] = pd.to_datetime(df1['transit_timestamp'], format='%Y-%m-%d %H:%M:%S', errors='coerce')\n",
    "df1['transit_timestamp'] = df1['transit_timestamp'].dt.tz_localize(None)"
   ]
  },
  {
   "cell_type": "code",
   "execution_count": null,
   "id": "4cc51a77-93da-486e-ab6f-0ddcc727e3b3",
   "metadata": {},
   "outputs": [],
   "source": [
    "# Convert numeric columns and drop NaNs\n",
    "df['passenger_count'] = pd.to_numeric(df['passenger_count'], errors='coerce')\n",
    "df['Latitude'] = pd.to_numeric(df['Latitude'], errors='coerce')\n",
    "df['Longitude'] = pd.to_numeric(df['Longitude'], errors='coerce')\n",
    "df = df.dropna(subset=['passenger_count', 'zone', 'Time', 'Date', 'Latitude', 'Longitude'])\n",
    "df['passenger_count'] = df['passenger_count'].astype(int)\n",
    "\n",
    "df1['ridership'] = pd.to_numeric(df1['ridership'], errors='coerce')\n",
    "df1['latitude'] = pd.to_numeric(df1['latitude'], errors='coerce')\n",
    "df1['longitude'] = pd.to_numeric(df1['longitude'], errors='coerce')\n",
    "df1['ridership'] = df1['ridership'].astype(int)"
   ]
  },
  {
   "cell_type": "code",
   "execution_count": null,
   "id": "46c59332-f5eb-49b4-8726-2f3cb4f73951",
   "metadata": {},
   "outputs": [],
   "source": [
    "# Find nearest subway station for each taxi zone using Haversine distance\n",
    "zone_coords = df[['zone', 'Latitude', 'Longitude']].drop_duplicates(subset=['zone'])\n",
    "station_coords = df1[['station_complex', 'latitude', 'longitude']].drop_duplicates(subset=['station_complex'])\n",
    "\n",
    "def find_nearest_station(row, station_coords):\n",
    "    \"\"\"Find the nearest station_complex and its distance for a given zone.\"\"\"\n",
    "    distances = station_coords.apply(\n",
    "        lambda x: haversine(row['Latitude'], row['Longitude'], x['latitude'], x['longitude']),\n",
    "        axis=1\n",
    "    )\n",
    "    min_idx = distances.idxmin()\n",
    "    return pd.Series({\n",
    "        'nearest_station': station_coords.loc[min_idx, 'station_complex'],\n",
    "        'distance': distances[min_idx]\n",
    "    })\n",
    "\n",
    "# Apply Haversine distance to find nearest station\n",
    "zone_coords[['nearest_station', 'distance']] = zone_coords.apply(\n",
    "    lambda row: find_nearest_station(row, station_coords), axis=1\n",
    ")"
   ]
  },
  {
   "cell_type": "code",
   "execution_count": null,
   "id": "e895a02d-3ee8-4c8d-b510-527d27c2b62c",
   "metadata": {},
   "outputs": [],
   "source": [
    "# Merge nearest station into df\n",
    "df = df.merge(zone_coords[['zone', 'nearest_station']], on='zone', how='left')"
   ]
  },
  {
   "cell_type": "code",
   "execution_count": null,
   "id": "5726d503-b296-4b69-9040-779e347720e8",
   "metadata": {},
   "outputs": [],
   "source": [
    "subway_subset = df1[['station_complex', 'transit_timestamp', 'ridership']].rename(\n",
    "    columns={'station_complex': 'nearest_station', 'transit_timestamp': 'datetime'}\n",
    ")\n"
   ]
  },
  {
   "cell_type": "code",
   "execution_count": null,
   "id": "488e8b71-be89-4753-b328-268c5b62e366",
   "metadata": {},
   "outputs": [],
   "source": [
    "combined_df = df.merge(subway_subset, on=['nearest_station', 'datetime'], how='left')"
   ]
  },
  {
   "cell_type": "code",
   "execution_count": null,
   "id": "a2e88818-d1ef-4f57-9b3b-29e2b073aced",
   "metadata": {},
   "outputs": [],
   "source": [
    "#Summarize by zone and datetime to handle duplicates\n",
    "combined_df = combined_df.groupby(['zone', 'datetime', 'Date', 'Time']).agg({\n",
    "    'passenger_count': 'sum',\n",
    "    'ridership': 'sum',\n",
    "    'nearest_station': 'first'  # Ensure one nearest_station per zone\n",
    "}).reset_index()\n"
   ]
  },
  {
   "cell_type": "code",
   "execution_count": null,
   "id": "1322bc1b-70f3-4bfd-8786-9be9e663f926",
   "metadata": {},
   "outputs": [],
   "source": [
    "combined_df['combined_count'] = combined_df['passenger_count'] + combined_df['ridership'].fillna(0)\n"
   ]
  },
  {
   "cell_type": "code",
   "execution_count": null,
   "id": "9d194111-d48d-459d-b58d-dc719fdf92f0",
   "metadata": {},
   "outputs": [],
   "source": [
    "# Normalize ridership and passenger_count\n",
    "scaler = MinMaxScaler()\n",
    "combined_df[[\"r_norm\", \"p_norm\"]] = scaler.fit_transform(\n",
    "    combined_df[[\"ridership\", \"passenger_count\"]].fillna(0)\n",
    ")"
   ]
  },
  {
   "cell_type": "code",
   "execution_count": null,
   "id": "0323b181-820c-434a-807b-4506e14d8327",
   "metadata": {},
   "outputs": [],
   "source": [
    "# Calculate crowd score\n",
    "alpha, beta = 0.6, 0.4\n",
    "min_count = combined_df['combined_count'].min()\n",
    "max_count = combined_df['combined_count'].max()\n",
    "if max_count > min_count:\n",
    "    combined_df[\"crowd_score\"] = (alpha * combined_df[\"r_norm\"] + beta * combined_df[\"p_norm\"]) * 10\n",
    "else:\n",
    "    combined_df['crowd_score'] = 0\n",
    "\n",
    "combined_df['crowd_score'] = combined_df['crowd_score'].round(2)\n"
   ]
  },
  {
   "cell_type": "code",
   "execution_count": null,
   "id": "192a623f-3742-4f84-b5da-cd5666458131",
   "metadata": {},
   "outputs": [],
   "source": [
    "result = combined_df[['zone', 'Date', 'Time', 'ridership', 'passenger_count', 'combined_count', 'crowd_score']]\n",
    "result = result.sort_values(['Date', 'Time', 'zone'])"
   ]
  },
  {
   "cell_type": "code",
   "execution_count": null,
   "id": "04862aec-3aec-49a5-bb7f-15015be0697f",
   "metadata": {},
   "outputs": [],
   "source": [
    "result.to_csv('crowd_scores_with_nearest_subway_final.csv', index=False)"
   ]
  },
  {
   "cell_type": "code",
   "execution_count": null,
   "id": "3f7704ad-58bc-434a-b57e-4406966a6d44",
   "metadata": {},
   "outputs": [],
   "source": []
  },
  {
   "cell_type": "code",
   "execution_count": null,
   "id": "50f94064-6a13-4d6e-9f05-78363e6ed9d9",
   "metadata": {},
   "outputs": [],
   "source": []
  }
 ],
 "metadata": {
  "kernelspec": {
   "display_name": "Python [conda env:base] *",
   "language": "python",
   "name": "conda-base-py"
  },
  "language_info": {
   "codemirror_mode": {
    "name": "ipython",
    "version": 3
   },
   "file_extension": ".py",
   "mimetype": "text/x-python",
   "name": "python",
   "nbconvert_exporter": "python",
   "pygments_lexer": "ipython3",
   "version": "3.12.7"
  }
 },
 "nbformat": 4,
 "nbformat_minor": 5
}
