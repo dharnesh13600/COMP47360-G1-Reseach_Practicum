{
 "cells": [
  {
   "cell_type": "code",
   "execution_count": 1,
   "id": "9f7f5993-0ae5-4116-8494-4de365c43497",
   "metadata": {},
   "outputs": [],
   "source": [
    "import pandas as pd\n",
    "from datetime import datetime, timedelta"
   ]
  },
  {
   "cell_type": "code",
   "execution_count": 9,
   "id": "161898f3-5cd5-48f7-a89f-19619a5de870",
   "metadata": {},
   "outputs": [],
   "source": [
    "df = pd.read_csv('Film_Permits_20250523.csv')"
   ]
  },
  {
   "cell_type": "code",
   "execution_count": 27,
   "id": "bcb2c724-e2dc-4f15-8a7c-77d58e32524b",
   "metadata": {},
   "outputs": [
    {
     "data": {
      "text/html": [
       "<div>\n",
       "<style scoped>\n",
       "    .dataframe tbody tr th:only-of-type {\n",
       "        vertical-align: middle;\n",
       "    }\n",
       "\n",
       "    .dataframe tbody tr th {\n",
       "        vertical-align: top;\n",
       "    }\n",
       "\n",
       "    .dataframe thead th {\n",
       "        text-align: right;\n",
       "    }\n",
       "</style>\n",
       "<table border=\"1\" class=\"dataframe\">\n",
       "  <thead>\n",
       "    <tr style=\"text-align: right;\">\n",
       "      <th></th>\n",
       "      <th>EventID</th>\n",
       "      <th>EventType</th>\n",
       "      <th>StartDateTime</th>\n",
       "      <th>EndDateTime</th>\n",
       "      <th>EnteredOn</th>\n",
       "      <th>ParkingHeld</th>\n",
       "      <th>Borough</th>\n",
       "      <th>Category</th>\n",
       "      <th>SubCategoryName</th>\n",
       "      <th>Start Datetime</th>\n",
       "      <th>End Datetime</th>\n",
       "    </tr>\n",
       "  </thead>\n",
       "  <tbody>\n",
       "    <tr>\n",
       "      <th>0</th>\n",
       "      <td>753784</td>\n",
       "      <td>Theater Load in and Load Outs</td>\n",
       "      <td>12/24/2023 0:01</td>\n",
       "      <td>12/31/2023 23:59</td>\n",
       "      <td>12/18/2023 12:59</td>\n",
       "      <td>WEST   62 STREET between COLUMBUS AVENUE and A...</td>\n",
       "      <td>Manhattan</td>\n",
       "      <td>Theater</td>\n",
       "      <td>Theater</td>\n",
       "      <td>2023-12-24 00:01:00</td>\n",
       "      <td>2023-12-31 23:59:00</td>\n",
       "    </tr>\n",
       "    <tr>\n",
       "      <th>1</th>\n",
       "      <td>752706</td>\n",
       "      <td>Shooting Permit</td>\n",
       "      <td>12/13/2023 6:00</td>\n",
       "      <td>12/13/2023 20:00</td>\n",
       "      <td>12/6/2023 9:01</td>\n",
       "      <td>HUDSON STREET between MORTON STREET and BARROW...</td>\n",
       "      <td>Manhattan</td>\n",
       "      <td>Film</td>\n",
       "      <td>Feature</td>\n",
       "      <td>2023-12-13 06:00:00</td>\n",
       "      <td>2023-12-13 20:00:00</td>\n",
       "    </tr>\n",
       "    <tr>\n",
       "      <th>2</th>\n",
       "      <td>752753</td>\n",
       "      <td>Theater Load in and Load Outs</td>\n",
       "      <td>12/12/2023 1:00</td>\n",
       "      <td>12/13/2023 1:00</td>\n",
       "      <td>12/6/2023 14:10</td>\n",
       "      <td>WEST   16 STREET between 9 AVENUE and 10 AVENUE</td>\n",
       "      <td>Manhattan</td>\n",
       "      <td>Theater</td>\n",
       "      <td>Theater</td>\n",
       "      <td>2023-12-12 01:00:00</td>\n",
       "      <td>2023-12-13 01:00:00</td>\n",
       "    </tr>\n",
       "    <tr>\n",
       "      <th>3</th>\n",
       "      <td>752512</td>\n",
       "      <td>Shooting Permit</td>\n",
       "      <td>12/12/2023 7:00</td>\n",
       "      <td>12/12/2023 23:59</td>\n",
       "      <td>12/4/2023 15:01</td>\n",
       "      <td>ST NICHOLAS PLACE between WEST  155 STREET and...</td>\n",
       "      <td>Manhattan</td>\n",
       "      <td>Television</td>\n",
       "      <td>Episodic series</td>\n",
       "      <td>2023-12-12 07:00:00</td>\n",
       "      <td>2023-12-12 23:59:00</td>\n",
       "    </tr>\n",
       "    <tr>\n",
       "      <th>4</th>\n",
       "      <td>752438</td>\n",
       "      <td>Shooting Permit</td>\n",
       "      <td>12/15/2023 1:00</td>\n",
       "      <td>12/15/2023 11:00</td>\n",
       "      <td>12/4/2023 8:02</td>\n",
       "      <td>WEST   47 STREET between 6 AVENUE and 7 AVENUE</td>\n",
       "      <td>Manhattan</td>\n",
       "      <td>Television</td>\n",
       "      <td>News</td>\n",
       "      <td>2023-12-15 01:00:00</td>\n",
       "      <td>2023-12-15 11:00:00</td>\n",
       "    </tr>\n",
       "  </tbody>\n",
       "</table>\n",
       "</div>"
      ],
      "text/plain": [
       "   EventID                      EventType    StartDateTime       EndDateTime  \\\n",
       "0   753784  Theater Load in and Load Outs  12/24/2023 0:01  12/31/2023 23:59   \n",
       "1   752706                Shooting Permit  12/13/2023 6:00  12/13/2023 20:00   \n",
       "2   752753  Theater Load in and Load Outs  12/12/2023 1:00   12/13/2023 1:00   \n",
       "3   752512                Shooting Permit  12/12/2023 7:00  12/12/2023 23:59   \n",
       "4   752438                Shooting Permit  12/15/2023 1:00  12/15/2023 11:00   \n",
       "\n",
       "          EnteredOn                                        ParkingHeld  \\\n",
       "0  12/18/2023 12:59  WEST   62 STREET between COLUMBUS AVENUE and A...   \n",
       "1    12/6/2023 9:01  HUDSON STREET between MORTON STREET and BARROW...   \n",
       "2   12/6/2023 14:10    WEST   16 STREET between 9 AVENUE and 10 AVENUE   \n",
       "3   12/4/2023 15:01  ST NICHOLAS PLACE between WEST  155 STREET and...   \n",
       "4    12/4/2023 8:02     WEST   47 STREET between 6 AVENUE and 7 AVENUE   \n",
       "\n",
       "     Borough    Category  SubCategoryName      Start Datetime  \\\n",
       "0  Manhattan     Theater          Theater 2023-12-24 00:01:00   \n",
       "1  Manhattan        Film          Feature 2023-12-13 06:00:00   \n",
       "2  Manhattan     Theater          Theater 2023-12-12 01:00:00   \n",
       "3  Manhattan  Television  Episodic series 2023-12-12 07:00:00   \n",
       "4  Manhattan  Television             News 2023-12-15 01:00:00   \n",
       "\n",
       "         End Datetime  \n",
       "0 2023-12-31 23:59:00  \n",
       "1 2023-12-13 20:00:00  \n",
       "2 2023-12-13 01:00:00  \n",
       "3 2023-12-12 23:59:00  \n",
       "4 2023-12-15 11:00:00  "
      ]
     },
     "execution_count": 27,
     "metadata": {},
     "output_type": "execute_result"
    }
   ],
   "source": [
    "df.head()"
   ]
  },
  {
   "cell_type": "code",
   "execution_count": 15,
   "id": "17f4c8db-c0aa-4b9e-938b-9a3f645a931e",
   "metadata": {},
   "outputs": [],
   "source": [
    "def parse_datetime(date_str):\n",
    "    datetime_str = f\"{date_str}\"\n",
    "    return pd.to_datetime(datetime_str)"
   ]
  },
  {
   "cell_type": "code",
   "execution_count": 17,
   "id": "de18dee6-3d21-44b3-b181-faea09006e6a",
   "metadata": {},
   "outputs": [],
   "source": [
    "df['Start Datetime'] = df.apply(lambda row: parse_datetime(row['StartDateTime']), axis=1)\n",
    "df['End Datetime'] = df.apply(lambda row: parse_datetime(row['EndDateTime']), axis=1)"
   ]
  },
  {
   "cell_type": "code",
   "execution_count": 21,
   "id": "8528ee15-9d65-48a4-9ae7-d71dfe40e7eb",
   "metadata": {},
   "outputs": [],
   "source": [
    "def get_first_location(location_str):\n",
    "    return location_str.split(',')[0].strip()"
   ]
  },
  {
   "cell_type": "code",
   "execution_count": 25,
   "id": "ad2d25e5-3b4d-475a-950d-417d6b6bc41c",
   "metadata": {},
   "outputs": [],
   "source": [
    "df['ParkingHeld'] = df['ParkingHeld'].apply(get_first_location)"
   ]
  },
  {
   "cell_type": "code",
   "execution_count": 29,
   "id": "1544d8fd-4e9c-44dd-810c-85cfb6115ad7",
   "metadata": {},
   "outputs": [],
   "source": [
    "expanded_rows = []"
   ]
  },
  {
   "cell_type": "code",
   "execution_count": 35,
   "id": "8eaa4304-0169-421b-af28-b4c51ea0a70a",
   "metadata": {},
   "outputs": [],
   "source": [
    "for _, row in df.iterrows():\n",
    "    current_time = row['Start Datetime']\n",
    "    end_time = row['End Datetime']\n",
    "    \n",
    "    while current_time <= end_time:\n",
    "        expanded_rows.append({\n",
    "            'Event Type': row['EventType'],\n",
    "            'ParkingHeld': row['ParkingHeld'],\n",
    "            'Category' : row['Category'],\n",
    "            'Date Time': current_time\n",
    "        })\n",
    "        current_time += timedelta(hours=1)"
   ]
  },
  {
   "cell_type": "code",
   "execution_count": 37,
   "id": "3b90ad32-daa3-41be-a332-f17cf9f78c98",
   "metadata": {},
   "outputs": [],
   "source": [
    "expanded_df = pd.DataFrame(expanded_rows)"
   ]
  },
  {
   "cell_type": "code",
   "execution_count": 39,
   "id": "1d484e51-b99c-4060-bad2-5aaa2105c428",
   "metadata": {},
   "outputs": [],
   "source": [
    "expanded_df = expanded_df.sort_values('Date Time')"
   ]
  },
  {
   "cell_type": "code",
   "execution_count": 41,
   "id": "eb4a80c1-b50c-4ac3-be89-666efb0c9800",
   "metadata": {},
   "outputs": [],
   "source": [
    "expanded_df.to_csv('film_permits_modified.csv', index=False)"
   ]
  },
  {
   "cell_type": "code",
   "execution_count": null,
   "id": "5886a51a-2655-472b-a670-42d7125a457f",
   "metadata": {},
   "outputs": [],
   "source": []
  }
 ],
 "metadata": {
  "kernelspec": {
   "display_name": "Python [conda env:base] *",
   "language": "python",
   "name": "conda-base-py"
  },
  "language_info": {
   "codemirror_mode": {
    "name": "ipython",
    "version": 3
   },
   "file_extension": ".py",
   "mimetype": "text/x-python",
   "name": "python",
   "nbconvert_exporter": "python",
   "pygments_lexer": "ipython3",
   "version": "3.12.7"
  }
 },
 "nbformat": 4,
 "nbformat_minor": 5
}
