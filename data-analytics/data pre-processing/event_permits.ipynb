{
 "cells": [
  {
   "cell_type": "code",
   "execution_count": 1,
   "id": "29333628-bab6-4781-91f3-68968fbe73ec",
   "metadata": {},
   "outputs": [],
   "source": [
    "import pandas as pd\n",
    "from datetime import datetime, timedelta"
   ]
  },
  {
   "cell_type": "code",
   "execution_count": 3,
   "id": "a7a93a70-5701-47eb-858d-9058ade48541",
   "metadata": {},
   "outputs": [],
   "source": [
    "df = pd.read_csv('NYC_Permitted_Event_Information_20250605.csv')"
   ]
  },
  {
   "cell_type": "code",
   "execution_count": 13,
   "id": "ad5c02f9-f806-4986-bf32-a25a24b1a94d",
   "metadata": {},
   "outputs": [],
   "source": [
    "def parse_datetime(date_str, time_str):\n",
    "    datetime_str = f\"{date_str} {time_str}\"\n",
    "    return pd.to_datetime(datetime_str)"
   ]
  },
  {
   "cell_type": "code",
   "execution_count": 15,
   "id": "9793999a-fc94-4c8f-8465-56c14f31bd36",
   "metadata": {},
   "outputs": [],
   "source": [
    "df['Start Datetime'] = df.apply(lambda row: parse_datetime(row['Start Date/Time'], row['Start Time']), axis=1)\n",
    "df['End Datetime'] = df.apply(lambda row: parse_datetime(row['End Date/Time'], row['End Time']), axis=1)"
   ]
  },
  {
   "cell_type": "code",
   "execution_count": 17,
   "id": "8451b708-3648-4d28-8fd3-a946f5e2f3a4",
   "metadata": {},
   "outputs": [
    {
     "data": {
      "text/plain": [
       "Event ID                                int64\n",
       "Event Name                             object\n",
       "Event Type                             object\n",
       "Cultural activity suggested            object\n",
       "Start Date/Time                        object\n",
       "Start Time                             object\n",
       "End Date/Time                          object\n",
       "End Time                               object\n",
       "Event Agency                           object\n",
       "Event Borough                          object\n",
       "Event Location                         object\n",
       "Start Datetime                 datetime64[ns]\n",
       "End Datetime                   datetime64[ns]\n",
       "dtype: object"
      ]
     },
     "execution_count": 17,
     "metadata": {},
     "output_type": "execute_result"
    }
   ],
   "source": [
    "df.dtypes"
   ]
  },
  {
   "cell_type": "code",
   "execution_count": 21,
   "id": "50739c28-834d-4f3d-9ba4-2273cd0b8ce0",
   "metadata": {},
   "outputs": [],
   "source": [
    "def get_first_location(location_str):\n",
    "    return location_str.split(',')[0].strip()"
   ]
  },
  {
   "cell_type": "code",
   "execution_count": 23,
   "id": "06a4d86c-a675-4627-9d76-c9ee437f36f6",
   "metadata": {},
   "outputs": [],
   "source": [
    "df['Event Location'] = df['Event Location'].apply(get_first_location)"
   ]
  },
  {
   "cell_type": "code",
   "execution_count": 31,
   "id": "c99110cd-ba61-482f-abee-bd64e21ea56f",
   "metadata": {},
   "outputs": [],
   "source": [
    "expanded_rows = []"
   ]
  },
  {
   "cell_type": "code",
   "execution_count": 33,
   "id": "49217855-8a61-4808-8e49-b895b0408686",
   "metadata": {},
   "outputs": [],
   "source": [
    "for _, row in df.iterrows():\n",
    "    current_time = row['Start Datetime']\n",
    "    end_time = row['End Datetime']\n",
    "    \n",
    "    while current_time <= end_time:\n",
    "        expanded_rows.append({\n",
    "            'Event Type': row['Event Type'],\n",
    "            'Event Location': row['Event Location'],\n",
    "            'Cultural activity suggested': row['Cultural activity suggested'],\n",
    "            'Date Time': current_time\n",
    "        })\n",
    "        current_time += timedelta(minutes=30)"
   ]
  },
  {
   "cell_type": "code",
   "execution_count": 35,
   "id": "cb4076ef-b592-4151-8b5c-332f0e420217",
   "metadata": {},
   "outputs": [],
   "source": [
    "expanded_df = pd.DataFrame(expanded_rows)"
   ]
  },
  {
   "cell_type": "code",
   "execution_count": 37,
   "id": "5b530f18-6220-44c2-a8bf-77122959483c",
   "metadata": {},
   "outputs": [],
   "source": [
    "expanded_df = expanded_df.sort_values('Date Time')"
   ]
  },
  {
   "cell_type": "code",
   "execution_count": 39,
   "id": "929c773a-c082-426f-ab40-e855b3e2734d",
   "metadata": {},
   "outputs": [],
   "source": [
    "expanded_df.to_csv('events_permit_modified.csv', index=False)"
   ]
  },
  {
   "cell_type": "code",
   "execution_count": null,
   "id": "db512bbf-1a02-4917-8185-2bcec5376cd6",
   "metadata": {},
   "outputs": [],
   "source": []
  }
 ],
 "metadata": {
  "kernelspec": {
   "display_name": "Python [conda env:base] *",
   "language": "python",
   "name": "conda-base-py"
  },
  "language_info": {
   "codemirror_mode": {
    "name": "ipython",
    "version": 3
   },
   "file_extension": ".py",
   "mimetype": "text/x-python",
   "name": "python",
   "nbconvert_exporter": "python",
   "pygments_lexer": "ipython3",
   "version": "3.12.7"
  }
 },
 "nbformat": 4,
 "nbformat_minor": 5
}
