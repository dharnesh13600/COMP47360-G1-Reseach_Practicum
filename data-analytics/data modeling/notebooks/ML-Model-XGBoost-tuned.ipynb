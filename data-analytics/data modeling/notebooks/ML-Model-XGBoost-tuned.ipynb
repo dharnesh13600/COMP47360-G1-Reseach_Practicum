{
 "cells": [
  {
   "cell_type": "code",
   "execution_count": 91,
   "id": "2a159736-5469-4988-a585-ff47710e5ef2",
   "metadata": {},
   "outputs": [],
   "source": [
    "import pandas as pd\n",
    "import numpy as np\n",
    "from sklearn.model_selection import train_test_split, cross_val_score, RandomizedSearchCV, KFold\n",
    "from xgboost import XGBRegressor\n",
    "from sklearn.metrics import mean_squared_error, r2_score, make_scorer\n",
    "from sklearn.preprocessing import OneHotEncoder\n",
    "from sklearn.compose import ColumnTransformer\n",
    "from sklearn.pipeline import Pipeline\n",
    "from sklearn.multioutput import MultiOutputRegressor\n",
    "import joblib"
   ]
  },
  {
   "cell_type": "code",
   "execution_count": 93,
   "id": "177b6416-4e24-4fe8-8ce0-a494de38cd8c",
   "metadata": {},
   "outputs": [],
   "source": [
    "df = pd.read_csv(\"final_dataset.csv\")"
   ]
  },
  {
   "cell_type": "code",
   "execution_count": 94,
   "id": "61ef81c8-ae82-4f3d-b55d-851dc28af7fc",
   "metadata": {},
   "outputs": [],
   "source": [
    "df[\"Hour\"] = pd.to_datetime(df[\"Time\"], format=\"%H:%M:%S\").dt.hour\n",
    "df[\"Date\"] = pd.to_datetime(df[\"Date\"])"
   ]
  },
  {
   "cell_type": "code",
   "execution_count": 97,
   "id": "55d452b4-4584-4622-ac43-dad5369d5d8b",
   "metadata": {},
   "outputs": [],
   "source": [
    "\n",
    "df[\"Month\"] = df[\"Date\"].dt.month\n",
    "df[\"Day\"] = df[\"Date\"].dt.day\n",
    " "
   ]
  },
  {
   "cell_type": "code",
   "execution_count": 99,
   "id": "bbb2e94a-b4b1-43c1-b307-2378075b0cb6",
   "metadata": {},
   "outputs": [],
   "source": [
    "X = df[[\"Latitude\", \"Longitude\", \"Hour\", \"Month\",\"Day\",\"Cultural_activity_prefered\"]]\n",
    "y = df[[\"Total crowd\", \"Taxi zone crowd score\", \"Activity Score\"]]"
   ]
  },
  {
   "cell_type": "code",
   "execution_count": 101,
   "id": "063d6906-9225-461d-a5bd-511322977daa",
   "metadata": {},
   "outputs": [],
   "source": [
    "categorical_features = [\"Cultural_activity_prefered\"]\n",
    "categorical_transformer = OneHotEncoder(handle_unknown=\"ignore\")\n",
    "preprocessor = ColumnTransformer(\n",
    "    transformers=[(\"cat\", categorical_transformer, categorical_features)],\n",
    "    remainder=\"passthrough\"\n",
    ")"
   ]
  },
  {
   "cell_type": "code",
   "execution_count": 103,
   "id": "d213ffce-7ea0-4316-b8ba-ad3cf08d413f",
   "metadata": {},
   "outputs": [],
   "source": [
    "X_train, X_test, y_train, y_test = train_test_split(X, y, test_size=0.3, random_state=42)"
   ]
  },
  {
   "cell_type": "code",
   "execution_count": 105,
   "id": "176a0a56-948f-43eb-b1ec-47c39d7f18c3",
   "metadata": {},
   "outputs": [],
   "source": [
    "xgb_pipeline = Pipeline([\n",
    "    (\"preprocessor\", preprocessor),\n",
    "    (\"regressor\", MultiOutputRegressor(\n",
    "        XGBRegressor(objective=\"reg:squarederror\", tree_method=\"hist\")\n",
    "    ))\n",
    "])"
   ]
  },
  {
   "cell_type": "code",
   "execution_count": 107,
   "id": "fdb599a6-7a66-44b9-baa3-b968e0971d3c",
   "metadata": {},
   "outputs": [],
   "source": [
    "param_grid = {\n",
    "    \"regressor__estimator__n_estimators\": [100, 300, 500],\n",
    "    \"regressor__estimator__learning_rate\": [0.01, 0.05, 0.1],\n",
    "    \"regressor__estimator__max_depth\": [3, 5, 7],\n",
    "    \"regressor__estimator__subsample\": [0.6, 0.8, 1.0],\n",
    "    \"regressor__estimator__colsample_bytree\": [0.6, 0.8, 1.0],\n",
    "    \"regressor__estimator__gamma\": [0, 0.1, 0.3],\n",
    "    \"regressor__estimator__reg_alpha\": [0, 0.01, 0.1],\n",
    "    \"regressor__estimator__reg_lambda\": [0.5, 1.0, 1.5],\n",
    "}"
   ]
  },
  {
   "cell_type": "code",
   "execution_count": 109,
   "id": "7afb50ca-d13c-45a7-a635-4ab03e5cafab",
   "metadata": {},
   "outputs": [],
   "source": [
    "random_search = RandomizedSearchCV(\n",
    "    estimator=xgb_pipeline,\n",
    "    param_distributions=param_grid,\n",
    "    n_iter=30,               \n",
    "    scoring=\"neg_mean_squared_error\",\n",
    "    cv=3,\n",
    "    verbose=2,\n",
    "    n_jobs=-1,\n",
    "    random_state=42\n",
    ")"
   ]
  },
  {
   "cell_type": "code",
   "execution_count": 111,
   "id": "19e94a2f-7f34-4eb1-8200-d41b33b1f861",
   "metadata": {},
   "outputs": [
    {
     "name": "stdout",
     "output_type": "stream",
     "text": [
      "Fitting 3 folds for each of 30 candidates, totalling 90 fits\n",
      "Best parameters found:\n",
      "{'regressor__estimator__subsample': 1.0, 'regressor__estimator__reg_lambda': 0.5, 'regressor__estimator__reg_alpha': 0, 'regressor__estimator__n_estimators': 300, 'regressor__estimator__max_depth': 7, 'regressor__estimator__learning_rate': 0.1, 'regressor__estimator__gamma': 0, 'regressor__estimator__colsample_bytree': 1.0}\n"
     ]
    }
   ],
   "source": [
    "random_search.fit(X_train, y_train)\n",
    "\n",
    "print(\"Best parameters found:\")\n",
    "print(random_search.best_params_)"
   ]
  },
  {
   "cell_type": "code",
   "execution_count": 113,
   "id": "f9eba6dc-ef10-4e60-b57c-354f13337fc5",
   "metadata": {},
   "outputs": [],
   "source": [
    "best_model = random_search.best_estimator_"
   ]
  },
  {
   "cell_type": "code",
   "execution_count": 115,
   "id": "1ecc75d9-ac25-4919-86e9-8bb19cdf6fab",
   "metadata": {},
   "outputs": [
    {
     "name": "stdout",
     "output_type": "stream",
     "text": [
      "Tuned XGBoost Evaluation:\n",
      "Total crowd: R² = 0.9391, RMSE = 1436.47\n",
      "Taxi zone crowd score: R² = 0.9377, RMSE = 0.20\n",
      "Activity Score: R² = 0.9983, RMSE = 0.09\n",
      "\n",
      " Average Metrics Across All Targets:\n",
      "Mean R² = 0.9584\n",
      "Mean RMSE = 478.92\n"
     ]
    },
    {
     "name": "stderr",
     "output_type": "stream",
     "text": [
      "C:\\ProgramData\\anaconda3\\Lib\\site-packages\\sklearn\\metrics\\_regression.py:492: FutureWarning: 'squared' is deprecated in version 1.4 and will be removed in 1.6. To calculate the root mean squared error, use the function'root_mean_squared_error'.\n",
      "  warnings.warn(\n",
      "C:\\ProgramData\\anaconda3\\Lib\\site-packages\\sklearn\\metrics\\_regression.py:492: FutureWarning: 'squared' is deprecated in version 1.4 and will be removed in 1.6. To calculate the root mean squared error, use the function'root_mean_squared_error'.\n",
      "  warnings.warn(\n",
      "C:\\ProgramData\\anaconda3\\Lib\\site-packages\\sklearn\\metrics\\_regression.py:492: FutureWarning: 'squared' is deprecated in version 1.4 and will be removed in 1.6. To calculate the root mean squared error, use the function'root_mean_squared_error'.\n",
      "  warnings.warn(\n"
     ]
    }
   ],
   "source": [
    "y_pred = best_model.predict(X_test)\n",
    "\n",
    "print(\"Tuned XGBoost Evaluation:\")\n",
    "r2_scores = []\n",
    "rmse_scores = []\n",
    "\n",
    "for i, target in enumerate(y_test.columns):\n",
    "    r2 = r2_score(y_test.iloc[:, i], y_pred[:, i])\n",
    "    rmse = mean_squared_error(y_test.iloc[:, i], y_pred[:, i], squared=False)\n",
    "    r2_scores.append(r2)\n",
    "    rmse_scores.append(rmse)\n",
    "    print(f\"{target}: R² = {r2:.4f}, RMSE = {rmse:.2f}\")\n",
    "\n",
    "print(\"\\n Average Metrics Across All Targets:\")\n",
    "print(f\"Mean R² = {np.mean(r2_scores):.4f}\")\n",
    "print(f\"Mean RMSE = {np.mean(rmse_scores):.2f}\")"
   ]
  },
  {
   "cell_type": "code",
   "execution_count": 117,
   "id": "2e327df6-6bf2-4b45-a3f4-1dd5545328aa",
   "metadata": {},
   "outputs": [],
   "source": [
    "def multioutput_r2(y_true, y_pred):\n",
    "    y_true = np.array(y_true) if isinstance(y_true, pd.DataFrame) else y_true\n",
    "    y_pred = np.array(y_pred) if isinstance(y_pred, pd.DataFrame) else y_pred\n",
    "    return np.mean([r2_score(y_true[:, i], y_pred[:, i]) for i in range(y_true.shape[1])])\n"
   ]
  },
  {
   "cell_type": "code",
   "execution_count": 119,
   "id": "acecff13-9177-4979-9bef-1c2e8b17a31f",
   "metadata": {},
   "outputs": [],
   "source": [
    "def multioutput_rmse(y_true, y_pred):\n",
    "    y_true = np.array(y_true) if isinstance(y_true, pd.DataFrame) else y_true\n",
    "    y_pred = np.array(y_pred) if isinstance(y_pred, pd.DataFrame) else y_pred\n",
    "    return np.mean([mean_squared_error(y_true[:, i], y_pred[:, i], squared=False) for i in range(y_true.shape[1])])"
   ]
  },
  {
   "cell_type": "code",
   "execution_count": 121,
   "id": "ccd2695a-9469-443a-b755-ef3abe1073f1",
   "metadata": {},
   "outputs": [],
   "source": [
    "cv = KFold(n_splits=5, shuffle=True, random_state=42)\n"
   ]
  },
  {
   "cell_type": "code",
   "execution_count": 123,
   "id": "c56d459d-d42e-4acd-8a5c-c9a93c72a6f6",
   "metadata": {},
   "outputs": [
    {
     "name": "stderr",
     "output_type": "stream",
     "text": [
      "C:\\ProgramData\\anaconda3\\Lib\\site-packages\\sklearn\\metrics\\_regression.py:492: FutureWarning: 'squared' is deprecated in version 1.4 and will be removed in 1.6. To calculate the root mean squared error, use the function'root_mean_squared_error'.\n",
      "  warnings.warn(\n",
      "C:\\ProgramData\\anaconda3\\Lib\\site-packages\\sklearn\\metrics\\_regression.py:492: FutureWarning: 'squared' is deprecated in version 1.4 and will be removed in 1.6. To calculate the root mean squared error, use the function'root_mean_squared_error'.\n",
      "  warnings.warn(\n",
      "C:\\ProgramData\\anaconda3\\Lib\\site-packages\\sklearn\\metrics\\_regression.py:492: FutureWarning: 'squared' is deprecated in version 1.4 and will be removed in 1.6. To calculate the root mean squared error, use the function'root_mean_squared_error'.\n",
      "  warnings.warn(\n",
      "C:\\ProgramData\\anaconda3\\Lib\\site-packages\\sklearn\\metrics\\_regression.py:492: FutureWarning: 'squared' is deprecated in version 1.4 and will be removed in 1.6. To calculate the root mean squared error, use the function'root_mean_squared_error'.\n",
      "  warnings.warn(\n",
      "C:\\ProgramData\\anaconda3\\Lib\\site-packages\\sklearn\\metrics\\_regression.py:492: FutureWarning: 'squared' is deprecated in version 1.4 and will be removed in 1.6. To calculate the root mean squared error, use the function'root_mean_squared_error'.\n",
      "  warnings.warn(\n",
      "C:\\ProgramData\\anaconda3\\Lib\\site-packages\\sklearn\\metrics\\_regression.py:492: FutureWarning: 'squared' is deprecated in version 1.4 and will be removed in 1.6. To calculate the root mean squared error, use the function'root_mean_squared_error'.\n",
      "  warnings.warn(\n",
      "C:\\ProgramData\\anaconda3\\Lib\\site-packages\\sklearn\\metrics\\_regression.py:492: FutureWarning: 'squared' is deprecated in version 1.4 and will be removed in 1.6. To calculate the root mean squared error, use the function'root_mean_squared_error'.\n",
      "  warnings.warn(\n",
      "C:\\ProgramData\\anaconda3\\Lib\\site-packages\\sklearn\\metrics\\_regression.py:492: FutureWarning: 'squared' is deprecated in version 1.4 and will be removed in 1.6. To calculate the root mean squared error, use the function'root_mean_squared_error'.\n",
      "  warnings.warn(\n",
      "C:\\ProgramData\\anaconda3\\Lib\\site-packages\\sklearn\\metrics\\_regression.py:492: FutureWarning: 'squared' is deprecated in version 1.4 and will be removed in 1.6. To calculate the root mean squared error, use the function'root_mean_squared_error'.\n",
      "  warnings.warn(\n",
      "C:\\ProgramData\\anaconda3\\Lib\\site-packages\\sklearn\\metrics\\_regression.py:492: FutureWarning: 'squared' is deprecated in version 1.4 and will be removed in 1.6. To calculate the root mean squared error, use the function'root_mean_squared_error'.\n",
      "  warnings.warn(\n",
      "C:\\ProgramData\\anaconda3\\Lib\\site-packages\\sklearn\\metrics\\_regression.py:492: FutureWarning: 'squared' is deprecated in version 1.4 and will be removed in 1.6. To calculate the root mean squared error, use the function'root_mean_squared_error'.\n",
      "  warnings.warn(\n",
      "C:\\ProgramData\\anaconda3\\Lib\\site-packages\\sklearn\\metrics\\_regression.py:492: FutureWarning: 'squared' is deprecated in version 1.4 and will be removed in 1.6. To calculate the root mean squared error, use the function'root_mean_squared_error'.\n",
      "  warnings.warn(\n"
     ]
    },
    {
     "name": "stdout",
     "output_type": "stream",
     "text": [
      "\n",
      "Cross-validated R² scores: [0.94739889 0.94623216 0.94715355 0.94636767 0.94751081]\n",
      "Mean R²: 0.9469326156503154\n",
      "Cross-validated RMSE scores: [539.89487922 543.32241999 534.60939624 540.5182873  536.74132684]\n",
      "Mean RMSE: 539.0172619175693\n"
     ]
    },
    {
     "name": "stderr",
     "output_type": "stream",
     "text": [
      "C:\\ProgramData\\anaconda3\\Lib\\site-packages\\sklearn\\metrics\\_regression.py:492: FutureWarning: 'squared' is deprecated in version 1.4 and will be removed in 1.6. To calculate the root mean squared error, use the function'root_mean_squared_error'.\n",
      "  warnings.warn(\n",
      "C:\\ProgramData\\anaconda3\\Lib\\site-packages\\sklearn\\metrics\\_regression.py:492: FutureWarning: 'squared' is deprecated in version 1.4 and will be removed in 1.6. To calculate the root mean squared error, use the function'root_mean_squared_error'.\n",
      "  warnings.warn(\n",
      "C:\\ProgramData\\anaconda3\\Lib\\site-packages\\sklearn\\metrics\\_regression.py:492: FutureWarning: 'squared' is deprecated in version 1.4 and will be removed in 1.6. To calculate the root mean squared error, use the function'root_mean_squared_error'.\n",
      "  warnings.warn(\n"
     ]
    }
   ],
   "source": [
    "r2_scores = cross_val_score(xgb_pipeline, X, y, cv=cv, scoring=make_scorer(multioutput_r2))\n",
    "rmse_scores = cross_val_score(xgb_pipeline, X, y, cv=cv, scoring=make_scorer(multioutput_rmse, greater_is_better=False))\n",
    "print(\"\\nCross-validated R² scores:\", r2_scores)\n",
    "print(\"Mean R²:\", r2_scores.mean())\n",
    "print(\"Cross-validated RMSE scores:\", -rmse_scores)\n",
    "print(\"Mean RMSE:\", -rmse_scores.mean())"
   ]
  },
  {
   "cell_type": "code",
   "execution_count": 82,
   "id": "0309d0cd-7723-4803-bab0-9669075e151c",
   "metadata": {},
   "outputs": [
    {
     "data": {
      "text/plain": [
       "['xgboost_model.pkl']"
      ]
     },
     "execution_count": 82,
     "metadata": {},
     "output_type": "execute_result"
    }
   ],
   "source": [
    "joblib.dump(best_model, \"xgboost_model.pkl\")"
   ]
  },
  {
   "cell_type": "code",
   "execution_count": null,
   "id": "5b3e6a17-0c91-43cc-8d9f-cbe27488cbff",
   "metadata": {},
   "outputs": [],
   "source": []
  }
 ],
 "metadata": {
  "kernelspec": {
   "display_name": "Python [conda env:base] *",
   "language": "python",
   "name": "conda-base-py"
  },
  "language_info": {
   "codemirror_mode": {
    "name": "ipython",
    "version": 3
   },
   "file_extension": ".py",
   "mimetype": "text/x-python",
   "name": "python",
   "nbconvert_exporter": "python",
   "pygments_lexer": "ipython3",
   "version": "3.12.7"
  }
 },
 "nbformat": 4,
 "nbformat_minor": 5
}
