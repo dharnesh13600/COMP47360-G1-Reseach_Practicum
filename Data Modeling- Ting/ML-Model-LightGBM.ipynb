{
 "cells": [
  {
   "cell_type": "code",
   "execution_count": 19,
   "metadata": {},
   "outputs": [],
   "source": [
    "import pandas as pd\n",
    "import numpy as np\n",
    "from sklearn.model_selection import train_test_split, cross_val_score, RandomizedSearchCV, KFold\n",
    "from lightgbm import LGBMRegressor\n",
    "from sklearn.metrics import mean_squared_error, r2_score, make_scorer\n",
    "from sklearn.preprocessing import OneHotEncoder\n",
    "from sklearn.compose import ColumnTransformer\n",
    "from sklearn.pipeline import Pipeline\n",
    "from sklearn.multioutput import MultiOutputRegressor\n",
    "import joblib\n",
    "import warnings\n",
    "warnings.filterwarnings('ignore')"
   ]
  },
  {
   "cell_type": "code",
   "execution_count": 20,
   "metadata": {},
   "outputs": [],
   "source": [
    "\n",
    "df = pd.read_csv(\"final_dataset.csv\")"
   ]
  },
  {
   "cell_type": "code",
   "execution_count": 21,
   "metadata": {},
   "outputs": [],
   "source": [
    "\n",
    "df[\"Hour\"] = pd.to_datetime(df[\"Time\"], format=\"%H:%M:%S\").dt.hour\n",
    "df[\"Date\"] = pd.to_datetime(df[\"Date\"])\n",
    "df[\"Month\"] = df[\"Date\"].dt.month\n",
    "df[\"Day\"] = df[\"Date\"].dt.day"
   ]
  },
  {
   "cell_type": "code",
   "execution_count": 22,
   "metadata": {},
   "outputs": [],
   "source": [
    "\n",
    "X = df[[\"Latitude\", \"Longitude\", \"Hour\", \"Month\", \"Day\", \"Cultural_activity_prefered\"]]\n",
    "y = df[[\"Total crowd\", \"Taxi zone crowd score\", \"Activity Score\"]]"
   ]
  },
  {
   "cell_type": "code",
   "execution_count": 23,
   "metadata": {},
   "outputs": [],
   "source": [
    "\n",
    "categorical_features = [\"Cultural_activity_prefered\"]\n",
    "categorical_transformer = OneHotEncoder(handle_unknown=\"ignore\")\n",
    "preprocessor = ColumnTransformer(\n",
    "    transformers=[(\"cat\", categorical_transformer, categorical_features)],\n",
    "    remainder=\"passthrough\"\n",
    ")"
   ]
  },
  {
   "cell_type": "code",
   "execution_count": 24,
   "metadata": {},
   "outputs": [],
   "source": [
    "\n",
    "X_train, X_test, y_train, y_test = train_test_split(X, y, test_size=0.3, random_state=42)"
   ]
  },
  {
   "cell_type": "code",
   "execution_count": 25,
   "metadata": {},
   "outputs": [],
   "source": [
    "\n",
    "lgbm_pipeline = Pipeline([\n",
    "    (\"preprocessor\", preprocessor),\n",
    "    (\"regressor\", MultiOutputRegressor(\n",
    "        LGBMRegressor(\n",
    "            objective='regression',\n",
    "            boosting_type='gbdt',    \n",
    "            verbose=-1,              \n",
    "            random_state=42,\n",
    "            force_col_wise=True     \n",
    "        )\n",
    "    ))\n",
    "])"
   ]
  },
  {
   "cell_type": "code",
   "execution_count": 26,
   "metadata": {},
   "outputs": [],
   "source": [
    "\n",
    "param_grid = {\n",
    "   \n",
    "    \"regressor__estimator__n_estimators\": [100, 300, 500, 800],\n",
    "    \"regressor__estimator__learning_rate\": [0.01, 0.05, 0.1, 0.2],\n",
    "    \n",
    "    \n",
    "    \"regressor__estimator__max_depth\": [3, 6, 9, 12],\n",
    "    \"regressor__estimator__num_leaves\": [31, 50, 100, 150],\n",
    "    \n",
    "    \n",
    "    \"regressor__estimator__reg_alpha\": [0, 0.01, 0.1, 1.0],     \n",
    "    \"regressor__estimator__reg_lambda\": [0, 0.01, 0.1, 1.0],     \n",
    "    \n",
    "   \n",
    "    \"regressor__estimator__subsample\": [0.6, 0.8, 0.9, 1.0],     \n",
    "    \"regressor__estimator__colsample_bytree\": [0.6, 0.8, 0.9, 1.0], \n",
    "    \n",
    "   \n",
    "    \"regressor__estimator__min_child_samples\": [10, 20, 30],     \n",
    "    \"regressor__estimator__min_split_gain\": [0.0, 0.1, 0.2],     \n",
    "}"
   ]
  },
  {
   "cell_type": "code",
   "execution_count": 27,
   "metadata": {},
   "outputs": [],
   "source": [
    "\n",
    "random_search = RandomizedSearchCV(\n",
    "    estimator=lgbm_pipeline,\n",
    "    param_distributions=param_grid,\n",
    "    n_iter=30,                          \n",
    "    scoring=\"neg_mean_squared_error\",\n",
    "    cv=3,                           \n",
    "    verbose=2,\n",
    "    n_jobs=-1,                         \n",
    "    random_state=42\n",
    ")"
   ]
  },
  {
   "cell_type": "code",
   "execution_count": 28,
   "metadata": {},
   "outputs": [
    {
     "name": "stdout",
     "output_type": "stream",
     "text": [
      "Starting LightGBM parameter tuning...\n",
      "Fitting 3 folds for each of 30 candidates, totalling 90 fits\n",
      "[CV] END regressor__estimator__colsample_bytree=0.8, regressor__estimator__learning_rate=0.2, regressor__estimator__max_depth=3, regressor__estimator__min_child_samples=10, regressor__estimator__min_split_gain=0.1, regressor__estimator__n_estimators=100, regressor__estimator__num_leaves=50, regressor__estimator__reg_alpha=0.1, regressor__estimator__reg_lambda=0.1, regressor__estimator__subsample=0.9; total time=   2.6s\n",
      "[CV] END regressor__estimator__colsample_bytree=0.8, regressor__estimator__learning_rate=0.2, regressor__estimator__max_depth=3, regressor__estimator__min_child_samples=10, regressor__estimator__min_split_gain=0.1, regressor__estimator__n_estimators=100, regressor__estimator__num_leaves=50, regressor__estimator__reg_alpha=0.1, regressor__estimator__reg_lambda=0.1, regressor__estimator__subsample=0.9; total time=   2.6s\n",
      "[CV] END regressor__estimator__colsample_bytree=0.8, regressor__estimator__learning_rate=0.2, regressor__estimator__max_depth=3, regressor__estimator__min_child_samples=10, regressor__estimator__min_split_gain=0.1, regressor__estimator__n_estimators=100, regressor__estimator__num_leaves=50, regressor__estimator__reg_alpha=0.1, regressor__estimator__reg_lambda=0.1, regressor__estimator__subsample=0.9; total time=   2.7s\n",
      "[CV] END regressor__estimator__colsample_bytree=0.6, regressor__estimator__learning_rate=0.2, regressor__estimator__max_depth=6, regressor__estimator__min_child_samples=10, regressor__estimator__min_split_gain=0.2, regressor__estimator__n_estimators=100, regressor__estimator__num_leaves=50, regressor__estimator__reg_alpha=0.1, regressor__estimator__reg_lambda=0.01, regressor__estimator__subsample=0.9; total time=   5.2s\n",
      "[CV] END regressor__estimator__colsample_bytree=0.6, regressor__estimator__learning_rate=0.2, regressor__estimator__max_depth=6, regressor__estimator__min_child_samples=10, regressor__estimator__min_split_gain=0.2, regressor__estimator__n_estimators=100, regressor__estimator__num_leaves=50, regressor__estimator__reg_alpha=0.1, regressor__estimator__reg_lambda=0.01, regressor__estimator__subsample=0.9; total time=   5.4s\n",
      "[CV] END regressor__estimator__colsample_bytree=0.6, regressor__estimator__learning_rate=0.2, regressor__estimator__max_depth=6, regressor__estimator__min_child_samples=10, regressor__estimator__min_split_gain=0.2, regressor__estimator__n_estimators=100, regressor__estimator__num_leaves=50, regressor__estimator__reg_alpha=0.1, regressor__estimator__reg_lambda=0.01, regressor__estimator__subsample=0.9; total time=   5.6s\n",
      "[CV] END regressor__estimator__colsample_bytree=0.6, regressor__estimator__learning_rate=0.05, regressor__estimator__max_depth=6, regressor__estimator__min_child_samples=30, regressor__estimator__min_split_gain=0.2, regressor__estimator__n_estimators=500, regressor__estimator__num_leaves=50, regressor__estimator__reg_alpha=0.1, regressor__estimator__reg_lambda=0.01, regressor__estimator__subsample=0.9; total time=  19.7s\n",
      "[CV] END regressor__estimator__colsample_bytree=0.6, regressor__estimator__learning_rate=0.05, regressor__estimator__max_depth=6, regressor__estimator__min_child_samples=30, regressor__estimator__min_split_gain=0.2, regressor__estimator__n_estimators=500, regressor__estimator__num_leaves=50, regressor__estimator__reg_alpha=0.1, regressor__estimator__reg_lambda=0.01, regressor__estimator__subsample=0.9; total time=  20.9s\n",
      "[CV] END regressor__estimator__colsample_bytree=0.6, regressor__estimator__learning_rate=0.05, regressor__estimator__max_depth=6, regressor__estimator__min_child_samples=30, regressor__estimator__min_split_gain=0.2, regressor__estimator__n_estimators=500, regressor__estimator__num_leaves=50, regressor__estimator__reg_alpha=0.1, regressor__estimator__reg_lambda=0.01, regressor__estimator__subsample=0.9; total time=  20.9s\n",
      "[CV] END regressor__estimator__colsample_bytree=0.6, regressor__estimator__learning_rate=0.2, regressor__estimator__max_depth=9, regressor__estimator__min_child_samples=30, regressor__estimator__min_split_gain=0.2, regressor__estimator__n_estimators=100, regressor__estimator__num_leaves=50, regressor__estimator__reg_alpha=1.0, regressor__estimator__reg_lambda=0.1, regressor__estimator__subsample=0.8; total time=   5.7s\n",
      "[CV] END regressor__estimator__colsample_bytree=0.6, regressor__estimator__learning_rate=0.2, regressor__estimator__max_depth=9, regressor__estimator__min_child_samples=30, regressor__estimator__min_split_gain=0.2, regressor__estimator__n_estimators=100, regressor__estimator__num_leaves=50, regressor__estimator__reg_alpha=1.0, regressor__estimator__reg_lambda=0.1, regressor__estimator__subsample=0.8; total time=   6.6s\n",
      "[CV] END regressor__estimator__colsample_bytree=0.6, regressor__estimator__learning_rate=0.2, regressor__estimator__max_depth=9, regressor__estimator__min_child_samples=30, regressor__estimator__min_split_gain=0.2, regressor__estimator__n_estimators=100, regressor__estimator__num_leaves=50, regressor__estimator__reg_alpha=1.0, regressor__estimator__reg_lambda=0.1, regressor__estimator__subsample=0.8; total time=   6.8s\n",
      "[CV] END regressor__estimator__colsample_bytree=1.0, regressor__estimator__learning_rate=0.1, regressor__estimator__max_depth=3, regressor__estimator__min_child_samples=20, regressor__estimator__min_split_gain=0.2, regressor__estimator__n_estimators=100, regressor__estimator__num_leaves=150, regressor__estimator__reg_alpha=0.01, regressor__estimator__reg_lambda=0.01, regressor__estimator__subsample=0.9; total time=   2.3s\n",
      "[CV] END regressor__estimator__colsample_bytree=1.0, regressor__estimator__learning_rate=0.1, regressor__estimator__max_depth=3, regressor__estimator__min_child_samples=20, regressor__estimator__min_split_gain=0.2, regressor__estimator__n_estimators=100, regressor__estimator__num_leaves=150, regressor__estimator__reg_alpha=0.01, regressor__estimator__reg_lambda=0.01, regressor__estimator__subsample=0.9; total time=   2.6s\n",
      "[CV] END regressor__estimator__colsample_bytree=1.0, regressor__estimator__learning_rate=0.1, regressor__estimator__max_depth=3, regressor__estimator__min_child_samples=20, regressor__estimator__min_split_gain=0.2, regressor__estimator__n_estimators=100, regressor__estimator__num_leaves=150, regressor__estimator__reg_alpha=0.01, regressor__estimator__reg_lambda=0.01, regressor__estimator__subsample=0.9; total time=   2.7s\n",
      "[CV] END regressor__estimator__colsample_bytree=0.6, regressor__estimator__learning_rate=0.1, regressor__estimator__max_depth=12, regressor__estimator__min_child_samples=30, regressor__estimator__min_split_gain=0.2, regressor__estimator__n_estimators=500, regressor__estimator__num_leaves=100, regressor__estimator__reg_alpha=1.0, regressor__estimator__reg_lambda=1.0, regressor__estimator__subsample=0.6; total time=  35.2s\n",
      "[CV] END regressor__estimator__colsample_bytree=0.6, regressor__estimator__learning_rate=0.1, regressor__estimator__max_depth=12, regressor__estimator__min_child_samples=30, regressor__estimator__min_split_gain=0.2, regressor__estimator__n_estimators=500, regressor__estimator__num_leaves=100, regressor__estimator__reg_alpha=1.0, regressor__estimator__reg_lambda=1.0, regressor__estimator__subsample=0.6; total time=  36.9s\n",
      "[CV] END regressor__estimator__colsample_bytree=0.9, regressor__estimator__learning_rate=0.05, regressor__estimator__max_depth=12, regressor__estimator__min_child_samples=30, regressor__estimator__min_split_gain=0.0, regressor__estimator__n_estimators=300, regressor__estimator__num_leaves=31, regressor__estimator__reg_alpha=0, regressor__estimator__reg_lambda=1.0, regressor__estimator__subsample=0.9; total time=  40.7s\n",
      "[CV] END regressor__estimator__colsample_bytree=0.9, regressor__estimator__learning_rate=0.05, regressor__estimator__max_depth=12, regressor__estimator__min_child_samples=30, regressor__estimator__min_split_gain=0.0, regressor__estimator__n_estimators=300, regressor__estimator__num_leaves=31, regressor__estimator__reg_alpha=0, regressor__estimator__reg_lambda=1.0, regressor__estimator__subsample=0.9; total time=  41.1s\n",
      "[CV] END regressor__estimator__colsample_bytree=0.9, regressor__estimator__learning_rate=0.05, regressor__estimator__max_depth=12, regressor__estimator__min_child_samples=30, regressor__estimator__min_split_gain=0.0, regressor__estimator__n_estimators=300, regressor__estimator__num_leaves=31, regressor__estimator__reg_alpha=0, regressor__estimator__reg_lambda=1.0, regressor__estimator__subsample=0.9; total time=  41.1s\n",
      "[CV] END regressor__estimator__colsample_bytree=0.6, regressor__estimator__learning_rate=0.1, regressor__estimator__max_depth=12, regressor__estimator__min_child_samples=30, regressor__estimator__min_split_gain=0.2, regressor__estimator__n_estimators=500, regressor__estimator__num_leaves=100, regressor__estimator__reg_alpha=1.0, regressor__estimator__reg_lambda=1.0, regressor__estimator__subsample=0.6; total time=  38.7s\n",
      "[CV] END regressor__estimator__colsample_bytree=0.6, regressor__estimator__learning_rate=0.1, regressor__estimator__max_depth=6, regressor__estimator__min_child_samples=20, regressor__estimator__min_split_gain=0.1, regressor__estimator__n_estimators=300, regressor__estimator__num_leaves=150, regressor__estimator__reg_alpha=0, regressor__estimator__reg_lambda=0.1, regressor__estimator__subsample=0.9; total time=  12.8s\n",
      "[CV] END regressor__estimator__colsample_bytree=0.6, regressor__estimator__learning_rate=0.1, regressor__estimator__max_depth=6, regressor__estimator__min_child_samples=20, regressor__estimator__min_split_gain=0.1, regressor__estimator__n_estimators=300, regressor__estimator__num_leaves=150, regressor__estimator__reg_alpha=0, regressor__estimator__reg_lambda=0.1, regressor__estimator__subsample=0.9; total time=  12.4s\n",
      "[CV] END regressor__estimator__colsample_bytree=0.6, regressor__estimator__learning_rate=0.1, regressor__estimator__max_depth=6, regressor__estimator__min_child_samples=20, regressor__estimator__min_split_gain=0.1, regressor__estimator__n_estimators=300, regressor__estimator__num_leaves=150, regressor__estimator__reg_alpha=0, regressor__estimator__reg_lambda=0.1, regressor__estimator__subsample=0.9; total time=  12.9s\n",
      "[CV] END regressor__estimator__colsample_bytree=0.6, regressor__estimator__learning_rate=0.2, regressor__estimator__max_depth=9, regressor__estimator__min_child_samples=10, regressor__estimator__min_split_gain=0.2, regressor__estimator__n_estimators=800, regressor__estimator__num_leaves=50, regressor__estimator__reg_alpha=0.01, regressor__estimator__reg_lambda=1.0, regressor__estimator__subsample=0.6; total time=  55.9s\n",
      "[CV] END regressor__estimator__colsample_bytree=0.6, regressor__estimator__learning_rate=0.2, regressor__estimator__max_depth=9, regressor__estimator__min_child_samples=10, regressor__estimator__min_split_gain=0.2, regressor__estimator__n_estimators=800, regressor__estimator__num_leaves=50, regressor__estimator__reg_alpha=0.01, regressor__estimator__reg_lambda=1.0, regressor__estimator__subsample=0.6; total time=  56.0s\n",
      "[CV] END regressor__estimator__colsample_bytree=0.8, regressor__estimator__learning_rate=0.01, regressor__estimator__max_depth=12, regressor__estimator__min_child_samples=10, regressor__estimator__min_split_gain=0.0, regressor__estimator__n_estimators=100, regressor__estimator__num_leaves=50, regressor__estimator__reg_alpha=0.1, regressor__estimator__reg_lambda=0, regressor__estimator__subsample=1.0; total time=  19.4s\n",
      "[CV] END regressor__estimator__colsample_bytree=0.6, regressor__estimator__learning_rate=0.2, regressor__estimator__max_depth=9, regressor__estimator__min_child_samples=10, regressor__estimator__min_split_gain=0.2, regressor__estimator__n_estimators=800, regressor__estimator__num_leaves=50, regressor__estimator__reg_alpha=0.01, regressor__estimator__reg_lambda=1.0, regressor__estimator__subsample=0.6; total time=  57.6s\n",
      "[CV] END regressor__estimator__colsample_bytree=0.8, regressor__estimator__learning_rate=0.01, regressor__estimator__max_depth=12, regressor__estimator__min_child_samples=10, regressor__estimator__min_split_gain=0.0, regressor__estimator__n_estimators=100, regressor__estimator__num_leaves=50, regressor__estimator__reg_alpha=0.1, regressor__estimator__reg_lambda=0, regressor__estimator__subsample=1.0; total time=  19.2s\n",
      "[CV] END regressor__estimator__colsample_bytree=0.6, regressor__estimator__learning_rate=0.05, regressor__estimator__max_depth=3, regressor__estimator__min_child_samples=20, regressor__estimator__min_split_gain=0.1, regressor__estimator__n_estimators=100, regressor__estimator__num_leaves=100, regressor__estimator__reg_alpha=0, regressor__estimator__reg_lambda=0, regressor__estimator__subsample=0.9; total time=   3.1s\n",
      "[CV] END regressor__estimator__colsample_bytree=0.6, regressor__estimator__learning_rate=0.05, regressor__estimator__max_depth=3, regressor__estimator__min_child_samples=20, regressor__estimator__min_split_gain=0.1, regressor__estimator__n_estimators=100, regressor__estimator__num_leaves=100, regressor__estimator__reg_alpha=0, regressor__estimator__reg_lambda=0, regressor__estimator__subsample=0.9; total time=   3.4s\n",
      "[CV] END regressor__estimator__colsample_bytree=0.8, regressor__estimator__learning_rate=0.01, regressor__estimator__max_depth=12, regressor__estimator__min_child_samples=10, regressor__estimator__min_split_gain=0.0, regressor__estimator__n_estimators=100, regressor__estimator__num_leaves=50, regressor__estimator__reg_alpha=0.1, regressor__estimator__reg_lambda=0, regressor__estimator__subsample=1.0; total time=  18.9s\n",
      "[CV] END regressor__estimator__colsample_bytree=0.6, regressor__estimator__learning_rate=0.05, regressor__estimator__max_depth=3, regressor__estimator__min_child_samples=20, regressor__estimator__min_split_gain=0.1, regressor__estimator__n_estimators=100, regressor__estimator__num_leaves=100, regressor__estimator__reg_alpha=0, regressor__estimator__reg_lambda=0, regressor__estimator__subsample=0.9; total time=   3.3s\n",
      "[CV] END regressor__estimator__colsample_bytree=0.8, regressor__estimator__learning_rate=0.05, regressor__estimator__max_depth=3, regressor__estimator__min_child_samples=30, regressor__estimator__min_split_gain=0.0, regressor__estimator__n_estimators=800, regressor__estimator__num_leaves=50, regressor__estimator__reg_alpha=0.1, regressor__estimator__reg_lambda=0.01, regressor__estimator__subsample=1.0; total time=  21.7s\n",
      "[CV] END regressor__estimator__colsample_bytree=0.8, regressor__estimator__learning_rate=0.05, regressor__estimator__max_depth=3, regressor__estimator__min_child_samples=30, regressor__estimator__min_split_gain=0.0, regressor__estimator__n_estimators=800, regressor__estimator__num_leaves=50, regressor__estimator__reg_alpha=0.1, regressor__estimator__reg_lambda=0.01, regressor__estimator__subsample=1.0; total time=  22.4s\n",
      "[CV] END regressor__estimator__colsample_bytree=0.8, regressor__estimator__learning_rate=0.05, regressor__estimator__max_depth=3, regressor__estimator__min_child_samples=30, regressor__estimator__min_split_gain=0.0, regressor__estimator__n_estimators=800, regressor__estimator__num_leaves=50, regressor__estimator__reg_alpha=0.1, regressor__estimator__reg_lambda=0.01, regressor__estimator__subsample=1.0; total time=  22.9s\n",
      "[CV] END regressor__estimator__colsample_bytree=0.8, regressor__estimator__learning_rate=0.2, regressor__estimator__max_depth=9, regressor__estimator__min_child_samples=10, regressor__estimator__min_split_gain=0.1, regressor__estimator__n_estimators=500, regressor__estimator__num_leaves=100, regressor__estimator__reg_alpha=0.01, regressor__estimator__reg_lambda=0.01, regressor__estimator__subsample=1.0; total time=  44.5s\n",
      "[CV] END regressor__estimator__colsample_bytree=0.8, regressor__estimator__learning_rate=0.2, regressor__estimator__max_depth=9, regressor__estimator__min_child_samples=10, regressor__estimator__min_split_gain=0.1, regressor__estimator__n_estimators=500, regressor__estimator__num_leaves=100, regressor__estimator__reg_alpha=0.01, regressor__estimator__reg_lambda=0.01, regressor__estimator__subsample=1.0; total time=  44.4s\n",
      "[CV] END regressor__estimator__colsample_bytree=0.6, regressor__estimator__learning_rate=0.05, regressor__estimator__max_depth=12, regressor__estimator__min_child_samples=10, regressor__estimator__min_split_gain=0.0, regressor__estimator__n_estimators=300, regressor__estimator__num_leaves=31, regressor__estimator__reg_alpha=1.0, regressor__estimator__reg_lambda=0.01, regressor__estimator__subsample=0.6; total time=  34.7s\n",
      "[CV] END regressor__estimator__colsample_bytree=0.6, regressor__estimator__learning_rate=0.05, regressor__estimator__max_depth=12, regressor__estimator__min_child_samples=10, regressor__estimator__min_split_gain=0.0, regressor__estimator__n_estimators=300, regressor__estimator__num_leaves=31, regressor__estimator__reg_alpha=1.0, regressor__estimator__reg_lambda=0.01, regressor__estimator__subsample=0.6; total time=  34.6s\n",
      "[CV] END regressor__estimator__colsample_bytree=0.6, regressor__estimator__learning_rate=0.05, regressor__estimator__max_depth=12, regressor__estimator__min_child_samples=10, regressor__estimator__min_split_gain=0.0, regressor__estimator__n_estimators=300, regressor__estimator__num_leaves=31, regressor__estimator__reg_alpha=1.0, regressor__estimator__reg_lambda=0.01, regressor__estimator__subsample=0.6; total time=  35.3s\n",
      "[CV] END regressor__estimator__colsample_bytree=0.8, regressor__estimator__learning_rate=0.2, regressor__estimator__max_depth=9, regressor__estimator__min_child_samples=10, regressor__estimator__min_split_gain=0.1, regressor__estimator__n_estimators=500, regressor__estimator__num_leaves=100, regressor__estimator__reg_alpha=0.01, regressor__estimator__reg_lambda=0.01, regressor__estimator__subsample=1.0; total time=  47.9s\n",
      "[CV] END regressor__estimator__colsample_bytree=0.9, regressor__estimator__learning_rate=0.01, regressor__estimator__max_depth=9, regressor__estimator__min_child_samples=30, regressor__estimator__min_split_gain=0.2, regressor__estimator__n_estimators=300, regressor__estimator__num_leaves=50, regressor__estimator__reg_alpha=0.01, regressor__estimator__reg_lambda=0.01, regressor__estimator__subsample=1.0; total time=  34.0s\n",
      "[CV] END regressor__estimator__colsample_bytree=0.9, regressor__estimator__learning_rate=0.01, regressor__estimator__max_depth=9, regressor__estimator__min_child_samples=30, regressor__estimator__min_split_gain=0.2, regressor__estimator__n_estimators=300, regressor__estimator__num_leaves=50, regressor__estimator__reg_alpha=0.01, regressor__estimator__reg_lambda=0.01, regressor__estimator__subsample=1.0; total time=  33.7s\n",
      "[CV] END regressor__estimator__colsample_bytree=0.9, regressor__estimator__learning_rate=0.01, regressor__estimator__max_depth=9, regressor__estimator__min_child_samples=30, regressor__estimator__min_split_gain=0.2, regressor__estimator__n_estimators=300, regressor__estimator__num_leaves=50, regressor__estimator__reg_alpha=0.01, regressor__estimator__reg_lambda=0.01, regressor__estimator__subsample=1.0; total time=  34.2s\n",
      "[CV] END regressor__estimator__colsample_bytree=0.8, regressor__estimator__learning_rate=0.05, regressor__estimator__max_depth=6, regressor__estimator__min_child_samples=20, regressor__estimator__min_split_gain=0.2, regressor__estimator__n_estimators=300, regressor__estimator__num_leaves=100, regressor__estimator__reg_alpha=0, regressor__estimator__reg_lambda=0, regressor__estimator__subsample=0.8; total time=  14.3s\n",
      "[CV] END regressor__estimator__colsample_bytree=0.8, regressor__estimator__learning_rate=0.05, regressor__estimator__max_depth=6, regressor__estimator__min_child_samples=20, regressor__estimator__min_split_gain=0.2, regressor__estimator__n_estimators=300, regressor__estimator__num_leaves=100, regressor__estimator__reg_alpha=0, regressor__estimator__reg_lambda=0, regressor__estimator__subsample=0.8; total time=  14.2s\n",
      "[CV] END regressor__estimator__colsample_bytree=0.8, regressor__estimator__learning_rate=0.05, regressor__estimator__max_depth=6, regressor__estimator__min_child_samples=20, regressor__estimator__min_split_gain=0.2, regressor__estimator__n_estimators=300, regressor__estimator__num_leaves=100, regressor__estimator__reg_alpha=0, regressor__estimator__reg_lambda=0, regressor__estimator__subsample=0.8; total time=  15.6s\n",
      "[CV] END regressor__estimator__colsample_bytree=0.8, regressor__estimator__learning_rate=0.1, regressor__estimator__max_depth=6, regressor__estimator__min_child_samples=20, regressor__estimator__min_split_gain=0.2, regressor__estimator__n_estimators=300, regressor__estimator__num_leaves=31, regressor__estimator__reg_alpha=0.01, regressor__estimator__reg_lambda=0.01, regressor__estimator__subsample=0.6; total time=  12.4s\n",
      "[CV] END regressor__estimator__colsample_bytree=0.8, regressor__estimator__learning_rate=0.1, regressor__estimator__max_depth=6, regressor__estimator__min_child_samples=20, regressor__estimator__min_split_gain=0.2, regressor__estimator__n_estimators=300, regressor__estimator__num_leaves=31, regressor__estimator__reg_alpha=0.01, regressor__estimator__reg_lambda=0.01, regressor__estimator__subsample=0.6; total time=  11.9s\n",
      "[CV] END regressor__estimator__colsample_bytree=0.8, regressor__estimator__learning_rate=0.1, regressor__estimator__max_depth=6, regressor__estimator__min_child_samples=20, regressor__estimator__min_split_gain=0.2, regressor__estimator__n_estimators=300, regressor__estimator__num_leaves=31, regressor__estimator__reg_alpha=0.01, regressor__estimator__reg_lambda=0.01, regressor__estimator__subsample=0.6; total time=  12.3s\n",
      "[CV] END regressor__estimator__colsample_bytree=0.8, regressor__estimator__learning_rate=0.05, regressor__estimator__max_depth=12, regressor__estimator__min_child_samples=10, regressor__estimator__min_split_gain=0.2, regressor__estimator__n_estimators=100, regressor__estimator__num_leaves=100, regressor__estimator__reg_alpha=0.1, regressor__estimator__reg_lambda=0, regressor__estimator__subsample=0.6; total time=  16.2s\n",
      "[CV] END regressor__estimator__colsample_bytree=0.8, regressor__estimator__learning_rate=0.05, regressor__estimator__max_depth=12, regressor__estimator__min_child_samples=10, regressor__estimator__min_split_gain=0.2, regressor__estimator__n_estimators=100, regressor__estimator__num_leaves=100, regressor__estimator__reg_alpha=0.1, regressor__estimator__reg_lambda=0, regressor__estimator__subsample=0.6; total time=  16.7s\n",
      "[CV] END regressor__estimator__colsample_bytree=0.8, regressor__estimator__learning_rate=0.05, regressor__estimator__max_depth=12, regressor__estimator__min_child_samples=10, regressor__estimator__min_split_gain=0.2, regressor__estimator__n_estimators=100, regressor__estimator__num_leaves=100, regressor__estimator__reg_alpha=0.1, regressor__estimator__reg_lambda=0, regressor__estimator__subsample=0.6; total time=  16.9s\n",
      "[CV] END regressor__estimator__colsample_bytree=0.9, regressor__estimator__learning_rate=0.01, regressor__estimator__max_depth=12, regressor__estimator__min_child_samples=20, regressor__estimator__min_split_gain=0.1, regressor__estimator__n_estimators=300, regressor__estimator__num_leaves=100, regressor__estimator__reg_alpha=0.01, regressor__estimator__reg_lambda=1.0, regressor__estimator__subsample=0.8; total time=  50.5s\n",
      "[CV] END regressor__estimator__colsample_bytree=0.9, regressor__estimator__learning_rate=0.01, regressor__estimator__max_depth=12, regressor__estimator__min_child_samples=20, regressor__estimator__min_split_gain=0.1, regressor__estimator__n_estimators=300, regressor__estimator__num_leaves=100, regressor__estimator__reg_alpha=0.01, regressor__estimator__reg_lambda=1.0, regressor__estimator__subsample=0.8; total time=  48.6s\n",
      "[CV] END regressor__estimator__colsample_bytree=0.9, regressor__estimator__learning_rate=0.01, regressor__estimator__max_depth=12, regressor__estimator__min_child_samples=20, regressor__estimator__min_split_gain=0.1, regressor__estimator__n_estimators=300, regressor__estimator__num_leaves=100, regressor__estimator__reg_alpha=0.01, regressor__estimator__reg_lambda=1.0, regressor__estimator__subsample=0.8; total time=  49.0s\n",
      "[CV] END regressor__estimator__colsample_bytree=0.8, regressor__estimator__learning_rate=0.05, regressor__estimator__max_depth=3, regressor__estimator__min_child_samples=10, regressor__estimator__min_split_gain=0.0, regressor__estimator__n_estimators=300, regressor__estimator__num_leaves=150, regressor__estimator__reg_alpha=0, regressor__estimator__reg_lambda=0.1, regressor__estimator__subsample=1.0; total time=  10.1s\n",
      "[CV] END regressor__estimator__colsample_bytree=0.8, regressor__estimator__learning_rate=0.05, regressor__estimator__max_depth=3, regressor__estimator__min_child_samples=10, regressor__estimator__min_split_gain=0.0, regressor__estimator__n_estimators=300, regressor__estimator__num_leaves=150, regressor__estimator__reg_alpha=0, regressor__estimator__reg_lambda=0.1, regressor__estimator__subsample=1.0; total time=  10.1s\n",
      "[CV] END regressor__estimator__colsample_bytree=0.8, regressor__estimator__learning_rate=0.05, regressor__estimator__max_depth=3, regressor__estimator__min_child_samples=10, regressor__estimator__min_split_gain=0.0, regressor__estimator__n_estimators=300, regressor__estimator__num_leaves=150, regressor__estimator__reg_alpha=0, regressor__estimator__reg_lambda=0.1, regressor__estimator__subsample=1.0; total time=   9.7s\n",
      "[CV] END regressor__estimator__colsample_bytree=0.9, regressor__estimator__learning_rate=0.2, regressor__estimator__max_depth=6, regressor__estimator__min_child_samples=30, regressor__estimator__min_split_gain=0.1, regressor__estimator__n_estimators=100, regressor__estimator__num_leaves=31, regressor__estimator__reg_alpha=0.01, regressor__estimator__reg_lambda=0.01, regressor__estimator__subsample=0.8; total time=   4.4s\n",
      "[CV] END regressor__estimator__colsample_bytree=0.9, regressor__estimator__learning_rate=0.2, regressor__estimator__max_depth=6, regressor__estimator__min_child_samples=30, regressor__estimator__min_split_gain=0.1, regressor__estimator__n_estimators=100, regressor__estimator__num_leaves=31, regressor__estimator__reg_alpha=0.01, regressor__estimator__reg_lambda=0.01, regressor__estimator__subsample=0.8; total time=   3.9s\n",
      "[CV] END regressor__estimator__colsample_bytree=0.9, regressor__estimator__learning_rate=0.2, regressor__estimator__max_depth=6, regressor__estimator__min_child_samples=30, regressor__estimator__min_split_gain=0.1, regressor__estimator__n_estimators=100, regressor__estimator__num_leaves=31, regressor__estimator__reg_alpha=0.01, regressor__estimator__reg_lambda=0.01, regressor__estimator__subsample=0.8; total time=   4.3s\n",
      "[CV] END regressor__estimator__colsample_bytree=0.9, regressor__estimator__learning_rate=0.05, regressor__estimator__max_depth=6, regressor__estimator__min_child_samples=30, regressor__estimator__min_split_gain=0.0, regressor__estimator__n_estimators=300, regressor__estimator__num_leaves=31, regressor__estimator__reg_alpha=1.0, regressor__estimator__reg_lambda=0.1, regressor__estimator__subsample=0.8; total time=  22.0s\n",
      "[CV] END regressor__estimator__colsample_bytree=0.9, regressor__estimator__learning_rate=0.01, regressor__estimator__max_depth=12, regressor__estimator__min_child_samples=30, regressor__estimator__min_split_gain=0.0, regressor__estimator__n_estimators=500, regressor__estimator__num_leaves=100, regressor__estimator__reg_alpha=0.01, regressor__estimator__reg_lambda=0.01, regressor__estimator__subsample=0.8; total time= 1.8min\n",
      "[CV] END regressor__estimator__colsample_bytree=0.9, regressor__estimator__learning_rate=0.05, regressor__estimator__max_depth=6, regressor__estimator__min_child_samples=30, regressor__estimator__min_split_gain=0.0, regressor__estimator__n_estimators=300, regressor__estimator__num_leaves=31, regressor__estimator__reg_alpha=1.0, regressor__estimator__reg_lambda=0.1, regressor__estimator__subsample=0.8; total time=  23.3s\n",
      "[CV] END regressor__estimator__colsample_bytree=0.9, regressor__estimator__learning_rate=0.05, regressor__estimator__max_depth=6, regressor__estimator__min_child_samples=30, regressor__estimator__min_split_gain=0.0, regressor__estimator__n_estimators=300, regressor__estimator__num_leaves=31, regressor__estimator__reg_alpha=1.0, regressor__estimator__reg_lambda=0.1, regressor__estimator__subsample=0.8; total time=  22.2s\n",
      "[CV] END regressor__estimator__colsample_bytree=0.9, regressor__estimator__learning_rate=0.01, regressor__estimator__max_depth=12, regressor__estimator__min_child_samples=30, regressor__estimator__min_split_gain=0.0, regressor__estimator__n_estimators=500, regressor__estimator__num_leaves=100, regressor__estimator__reg_alpha=0.01, regressor__estimator__reg_lambda=0.01, regressor__estimator__subsample=0.8; total time= 1.8min\n",
      "[CV] END regressor__estimator__colsample_bytree=0.8, regressor__estimator__learning_rate=0.2, regressor__estimator__max_depth=3, regressor__estimator__min_child_samples=10, regressor__estimator__min_split_gain=0.0, regressor__estimator__n_estimators=500, regressor__estimator__num_leaves=150, regressor__estimator__reg_alpha=0.1, regressor__estimator__reg_lambda=0.1, regressor__estimator__subsample=1.0; total time=  14.0s\n",
      "[CV] END regressor__estimator__colsample_bytree=0.9, regressor__estimator__learning_rate=0.01, regressor__estimator__max_depth=12, regressor__estimator__min_child_samples=30, regressor__estimator__min_split_gain=0.0, regressor__estimator__n_estimators=500, regressor__estimator__num_leaves=100, regressor__estimator__reg_alpha=0.01, regressor__estimator__reg_lambda=0.01, regressor__estimator__subsample=0.8; total time= 1.8min\n",
      "[CV] END regressor__estimator__colsample_bytree=0.8, regressor__estimator__learning_rate=0.2, regressor__estimator__max_depth=3, regressor__estimator__min_child_samples=10, regressor__estimator__min_split_gain=0.0, regressor__estimator__n_estimators=500, regressor__estimator__num_leaves=150, regressor__estimator__reg_alpha=0.1, regressor__estimator__reg_lambda=0.1, regressor__estimator__subsample=1.0; total time=  14.4s\n",
      "[CV] END regressor__estimator__colsample_bytree=0.8, regressor__estimator__learning_rate=0.2, regressor__estimator__max_depth=3, regressor__estimator__min_child_samples=10, regressor__estimator__min_split_gain=0.0, regressor__estimator__n_estimators=500, regressor__estimator__num_leaves=150, regressor__estimator__reg_alpha=0.1, regressor__estimator__reg_lambda=0.1, regressor__estimator__subsample=1.0; total time=  13.9s\n",
      "[CV] END regressor__estimator__colsample_bytree=0.8, regressor__estimator__learning_rate=0.01, regressor__estimator__max_depth=6, regressor__estimator__min_child_samples=10, regressor__estimator__min_split_gain=0.0, regressor__estimator__n_estimators=100, regressor__estimator__num_leaves=31, regressor__estimator__reg_alpha=1.0, regressor__estimator__reg_lambda=0.1, regressor__estimator__subsample=0.9; total time=   9.9s\n",
      "[CV] END regressor__estimator__colsample_bytree=0.8, regressor__estimator__learning_rate=0.01, regressor__estimator__max_depth=6, regressor__estimator__min_child_samples=10, regressor__estimator__min_split_gain=0.0, regressor__estimator__n_estimators=100, regressor__estimator__num_leaves=31, regressor__estimator__reg_alpha=1.0, regressor__estimator__reg_lambda=0.1, regressor__estimator__subsample=0.9; total time=   9.2s\n",
      "[CV] END regressor__estimator__colsample_bytree=0.8, regressor__estimator__learning_rate=0.01, regressor__estimator__max_depth=6, regressor__estimator__min_child_samples=10, regressor__estimator__min_split_gain=0.0, regressor__estimator__n_estimators=100, regressor__estimator__num_leaves=31, regressor__estimator__reg_alpha=1.0, regressor__estimator__reg_lambda=0.1, regressor__estimator__subsample=0.9; total time=   9.1s\n",
      "[CV] END regressor__estimator__colsample_bytree=1.0, regressor__estimator__learning_rate=0.05, regressor__estimator__max_depth=3, regressor__estimator__min_child_samples=30, regressor__estimator__min_split_gain=0.0, regressor__estimator__n_estimators=800, regressor__estimator__num_leaves=50, regressor__estimator__reg_alpha=0.01, regressor__estimator__reg_lambda=0.1, regressor__estimator__subsample=0.6; total time=  21.0s\n",
      "[CV] END regressor__estimator__colsample_bytree=1.0, regressor__estimator__learning_rate=0.05, regressor__estimator__max_depth=3, regressor__estimator__min_child_samples=30, regressor__estimator__min_split_gain=0.0, regressor__estimator__n_estimators=800, regressor__estimator__num_leaves=50, regressor__estimator__reg_alpha=0.01, regressor__estimator__reg_lambda=0.1, regressor__estimator__subsample=0.6; total time=  21.4s\n",
      "[CV] END regressor__estimator__colsample_bytree=1.0, regressor__estimator__learning_rate=0.05, regressor__estimator__max_depth=3, regressor__estimator__min_child_samples=30, regressor__estimator__min_split_gain=0.0, regressor__estimator__n_estimators=800, regressor__estimator__num_leaves=50, regressor__estimator__reg_alpha=0.01, regressor__estimator__reg_lambda=0.1, regressor__estimator__subsample=0.6; total time=  23.2s\n",
      "[CV] END regressor__estimator__colsample_bytree=0.6, regressor__estimator__learning_rate=0.1, regressor__estimator__max_depth=12, regressor__estimator__min_child_samples=10, regressor__estimator__min_split_gain=0.1, regressor__estimator__n_estimators=800, regressor__estimator__num_leaves=100, regressor__estimator__reg_alpha=1.0, regressor__estimator__reg_lambda=0.1, regressor__estimator__subsample=1.0; total time= 1.6min\n",
      "[CV] END regressor__estimator__colsample_bytree=0.6, regressor__estimator__learning_rate=0.1, regressor__estimator__max_depth=12, regressor__estimator__min_child_samples=10, regressor__estimator__min_split_gain=0.1, regressor__estimator__n_estimators=800, regressor__estimator__num_leaves=100, regressor__estimator__reg_alpha=1.0, regressor__estimator__reg_lambda=0.1, regressor__estimator__subsample=1.0; total time= 1.6min\n",
      "[CV] END regressor__estimator__colsample_bytree=0.6, regressor__estimator__learning_rate=0.1, regressor__estimator__max_depth=12, regressor__estimator__min_child_samples=10, regressor__estimator__min_split_gain=0.1, regressor__estimator__n_estimators=800, regressor__estimator__num_leaves=100, regressor__estimator__reg_alpha=1.0, regressor__estimator__reg_lambda=0.1, regressor__estimator__subsample=1.0; total time= 1.6min\n",
      "[CV] END regressor__estimator__colsample_bytree=1.0, regressor__estimator__learning_rate=0.05, regressor__estimator__max_depth=9, regressor__estimator__min_child_samples=10, regressor__estimator__min_split_gain=0.2, regressor__estimator__n_estimators=300, regressor__estimator__num_leaves=150, regressor__estimator__reg_alpha=0.01, regressor__estimator__reg_lambda=0.1, regressor__estimator__subsample=0.9; total time=  30.4s\n",
      "[CV] END regressor__estimator__colsample_bytree=1.0, regressor__estimator__learning_rate=0.05, regressor__estimator__max_depth=9, regressor__estimator__min_child_samples=10, regressor__estimator__min_split_gain=0.2, regressor__estimator__n_estimators=300, regressor__estimator__num_leaves=150, regressor__estimator__reg_alpha=0.01, regressor__estimator__reg_lambda=0.1, regressor__estimator__subsample=0.9; total time=  31.1s\n",
      "[CV] END regressor__estimator__colsample_bytree=1.0, regressor__estimator__learning_rate=0.05, regressor__estimator__max_depth=9, regressor__estimator__min_child_samples=10, regressor__estimator__min_split_gain=0.2, regressor__estimator__n_estimators=300, regressor__estimator__num_leaves=150, regressor__estimator__reg_alpha=0.01, regressor__estimator__reg_lambda=0.1, regressor__estimator__subsample=0.9; total time=  31.1s\n",
      "[CV] END regressor__estimator__colsample_bytree=0.8, regressor__estimator__learning_rate=0.01, regressor__estimator__max_depth=3, regressor__estimator__min_child_samples=10, regressor__estimator__min_split_gain=0.1, regressor__estimator__n_estimators=800, regressor__estimator__num_leaves=150, regressor__estimator__reg_alpha=1.0, regressor__estimator__reg_lambda=1.0, regressor__estimator__subsample=1.0; total time=  17.1s\n",
      "[CV] END regressor__estimator__colsample_bytree=0.8, regressor__estimator__learning_rate=0.01, regressor__estimator__max_depth=3, regressor__estimator__min_child_samples=10, regressor__estimator__min_split_gain=0.1, regressor__estimator__n_estimators=800, regressor__estimator__num_leaves=150, regressor__estimator__reg_alpha=1.0, regressor__estimator__reg_lambda=1.0, regressor__estimator__subsample=1.0; total time=  16.9s\n",
      "[CV] END regressor__estimator__colsample_bytree=0.8, regressor__estimator__learning_rate=0.01, regressor__estimator__max_depth=3, regressor__estimator__min_child_samples=10, regressor__estimator__min_split_gain=0.1, regressor__estimator__n_estimators=800, regressor__estimator__num_leaves=150, regressor__estimator__reg_alpha=1.0, regressor__estimator__reg_lambda=1.0, regressor__estimator__subsample=1.0; total time=  15.2s\n",
      "[CV] END regressor__estimator__colsample_bytree=0.9, regressor__estimator__learning_rate=0.1, regressor__estimator__max_depth=6, regressor__estimator__min_child_samples=30, regressor__estimator__min_split_gain=0.0, regressor__estimator__n_estimators=500, regressor__estimator__num_leaves=100, regressor__estimator__reg_alpha=0.1, regressor__estimator__reg_lambda=0.1, regressor__estimator__subsample=0.8; total time=  27.3s\n",
      "[CV] END regressor__estimator__colsample_bytree=0.9, regressor__estimator__learning_rate=0.1, regressor__estimator__max_depth=6, regressor__estimator__min_child_samples=30, regressor__estimator__min_split_gain=0.0, regressor__estimator__n_estimators=500, regressor__estimator__num_leaves=100, regressor__estimator__reg_alpha=0.1, regressor__estimator__reg_lambda=0.1, regressor__estimator__subsample=0.8; total time=  27.1s\n",
      "[CV] END regressor__estimator__colsample_bytree=0.9, regressor__estimator__learning_rate=0.1, regressor__estimator__max_depth=6, regressor__estimator__min_child_samples=30, regressor__estimator__min_split_gain=0.0, regressor__estimator__n_estimators=500, regressor__estimator__num_leaves=100, regressor__estimator__reg_alpha=0.1, regressor__estimator__reg_lambda=0.1, regressor__estimator__subsample=0.8; total time=  27.5s\n",
      "Best LightGBM parameters found:\n",
      "{'regressor__estimator__subsample': 1.0, 'regressor__estimator__reg_lambda': 0.1, 'regressor__estimator__reg_alpha': 1.0, 'regressor__estimator__num_leaves': 100, 'regressor__estimator__n_estimators': 800, 'regressor__estimator__min_split_gain': 0.1, 'regressor__estimator__min_child_samples': 10, 'regressor__estimator__max_depth': 12, 'regressor__estimator__learning_rate': 0.1, 'regressor__estimator__colsample_bytree': 0.6}\n",
      "Best cross-validation score: 287675.2198\n"
     ]
    }
   ],
   "source": [
    "\n",
    "print(\"Starting LightGBM parameter tuning...\")\n",
    "random_search.fit(X_train, y_train)\n",
    "\n",
    "print(\"Best LightGBM parameters found:\")\n",
    "print(random_search.best_params_)\n",
    "print(f\"Best cross-validation score: {-random_search.best_score_:.4f}\")"
   ]
  },
  {
   "cell_type": "code",
   "execution_count": 29,
   "metadata": {},
   "outputs": [],
   "source": [
    "\n",
    "best_model = random_search.best_estimator_"
   ]
  },
  {
   "cell_type": "code",
   "execution_count": null,
   "metadata": {},
   "outputs": [
    {
     "name": "stdout",
     "output_type": "stream",
     "text": [
      "LightGBM Evaluation:\n",
      "Total crowd: R² = 0.9359, RMSE = 704.11\n",
      "Taxi zone crowd score: R² = 0.8662, RMSE = 0.14\n",
      "Activity Score: R² = 0.9953, RMSE = 0.07\n",
      "\n",
      "Average Metrics Across All Targets:\n",
      "Mean R² = 0.9325\n",
      "Mean RMSE = 234.77\n"
     ]
    }
   ],
   "source": [
    "\n",
    "y_pred = best_model.predict(X_test)\n",
    "\n",
    "print(\"LightGBM Evaluation:\")\n",
    "r2_scores = []\n",
    "rmse_scores = []\n",
    "\n",
    "for i, target in enumerate(y_test.columns):\n",
    "    r2 = r2_score(y_test.iloc[:, i], y_pred[:, i])\n",
    "  \n",
    "    mse = mean_squared_error(y_test.iloc[:, i], y_pred[:, i])\n",
    "    rmse = np.sqrt(mse)\n",
    "    r2_scores.append(r2)\n",
    "    rmse_scores.append(rmse)\n",
    "    print(f\"{target}: R² = {r2:.4f}, RMSE = {rmse:.2f}\")\n",
    "\n",
    "print(f\"\\nAverage Metrics Across All Targets:\")\n",
    "print(f\"Mean R² = {np.mean(r2_scores):.4f}\")\n",
    "print(f\"Mean RMSE = {np.mean(rmse_scores):.2f}\")"
   ]
  },
  {
   "cell_type": "code",
   "execution_count": 31,
   "metadata": {},
   "outputs": [],
   "source": [
    "\n",
    "def multioutput_r2(y_true, y_pred):\n",
    "    y_true = np.array(y_true) if isinstance(y_true, pd.DataFrame) else y_true\n",
    "    y_pred = np.array(y_pred) if isinstance(y_pred, pd.DataFrame) else y_pred\n",
    "    return np.mean([r2_score(y_true[:, i], y_pred[:, i]) for i in range(y_true.shape[1])])\n",
    "\n",
    "def multioutput_rmse(y_true, y_pred):\n",
    "    y_true = np.array(y_true) if isinstance(y_true, pd.DataFrame) else y_true\n",
    "    y_pred = np.array(y_pred) if isinstance(y_pred, pd.DataFrame) else y_pred\n",
    "    return np.mean([np.sqrt(mean_squared_error(y_true[:, i], y_pred[:, i])) \n",
    "                   for i in range(y_true.shape[1])])"
   ]
  },
  {
   "cell_type": "code",
   "execution_count": null,
   "metadata": {},
   "outputs": [
    {
     "name": "stdout",
     "output_type": "stream",
     "text": [
      "\n",
      "Performing cross-validation...\n",
      "\n",
      "Cross-validated results:\n",
      "R² scores per fold: [0.9542476  0.93986912 0.91969017 0.93085705 0.93949816]\n",
      "Mean R²: 0.9368324206554351\n",
      "R² std: 0.01139454290165753\n",
      "\n",
      "RMSE scores per fold: [241.00840328 286.66948067 318.44505074 270.92015419 264.33752053]\n",
      "Mean RMSE: 276.2761218809933\n",
      "RMSE std: 25.695404395374386\n"
     ]
    }
   ],
   "source": [
    "\n",
    "cv = KFold(n_splits=5, shuffle=True, random_state=42)\n",
    "\n",
    "print(\"\\nPerforming cross-validation...\")\n",
    "r2_scores_cv = cross_val_score(lgbm_pipeline, X, y, cv=cv, scoring=make_scorer(multioutput_r2))\n",
    "rmse_scores_cv = cross_val_score(lgbm_pipeline, X, y, cv=cv, \n",
    "                                scoring=make_scorer(multioutput_rmse, greater_is_better=False))\n",
    "\n",
    "print(\"\\nCross-validated results:\")\n",
    "print(\"R² scores per fold:\", r2_scores_cv)\n",
    "print(\"Mean R²:\", r2_scores_cv.mean())\n",
    "print(\"R² std:\", r2_scores_cv.std())\n",
    "print(\"\\nRMSE scores per fold:\", -rmse_scores_cv)\n",
    "print(\"Mean RMSE:\", -rmse_scores_cv.mean())\n",
    "print(\"RMSE std:\", rmse_scores_cv.std())"
   ]
  },
  {
   "cell_type": "code",
   "execution_count": 33,
   "metadata": {},
   "outputs": [
    {
     "name": "stdout",
     "output_type": "stream",
     "text": [
      "\n",
      "Top 10 Most Important Features:\n",
      "                                           feature   importance\n",
      "9                                              Day  6321.666667\n",
      "5                                         Latitude  5163.000000\n",
      "7                                             Hour  5064.333333\n",
      "6                                        Longitude  4452.333333\n",
      "8                                            Month  3294.666667\n",
      "2            Cultural_activity_prefered_Filmmaking   201.333333\n",
      "1               Cultural_activity_prefered_Busking   143.000000\n",
      "0              Cultural_activity_prefered_Art Sale   120.000000\n",
      "4    Cultural_activity_prefered_Street photography    89.666667\n",
      "3  Cultural_activity_prefered_Portrait photography    88.333333\n"
     ]
    }
   ],
   "source": [
    "\n",
    "\n",
    "fitted_preprocessor = best_model.named_steps['preprocessor']\n",
    "cat_feature_names = fitted_preprocessor.named_transformers_['cat'].get_feature_names_out(categorical_features).tolist()\n",
    "\n",
    "\n",
    "numerical_feature_names = ['Latitude', 'Longitude', 'Hour', 'Month', 'Day']\n",
    "\n",
    "\n",
    "all_feature_names = cat_feature_names + numerical_feature_names\n",
    "\n",
    "\n",
    "importances = []\n",
    "for estimator in best_model.named_steps['regressor'].estimators_:\n",
    "    importances.append(estimator.feature_importances_)\n",
    "\n",
    "mean_importance = np.mean(importances, axis=0)\n",
    "feature_importance_df = pd.DataFrame({\n",
    "    'feature': all_feature_names,\n",
    "    'importance': mean_importance\n",
    "}).sort_values('importance', ascending=False)\n",
    "\n",
    "print(\"\\nTop 10 Most Important Features:\")\n",
    "print(feature_importance_df.head(10))"
   ]
  },
  {
   "cell_type": "code",
   "execution_count": null,
   "metadata": {},
   "outputs": [
    {
     "name": "stdout",
     "output_type": "stream",
     "text": [
      "\n",
      "Model saved as 'lightgbm_model.pkl'\n",
      "Feature importance saved as 'lightgbm_feature_importance.csv'\n"
     ]
    }
   ],
   "source": [
    "\n",
    "joblib.dump(best_model, \"lightgbm_model.pkl\")\n",
    "print(\"\\nModel saved as 'lightgbm_model.pkl'\")\n",
    "\n",
    "\n",
    "feature_importance_df.to_csv(\"lightgbm_feature_importance.csv\", index=False)\n",
    "print(\"Feature importance saved as 'lightgbm_feature_importance.csv'\")"
   ]
  }
 ],
 "metadata": {
  "kernelspec": {
   "display_name": "ml_project",
   "language": "python",
   "name": "python3"
  },
  "language_info": {
   "codemirror_mode": {
    "name": "ipython",
    "version": 3
   },
   "file_extension": ".py",
   "mimetype": "text/x-python",
   "name": "python",
   "nbconvert_exporter": "python",
   "pygments_lexer": "ipython3",
   "version": "3.10.18"
  }
 },
 "nbformat": 4,
 "nbformat_minor": 2
}
